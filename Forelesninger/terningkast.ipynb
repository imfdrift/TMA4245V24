{
 "cells": [
  {
   "cell_type": "markdown",
   "id": "54efd0f5-12c6-4228-9037-93974d67ad17",
   "metadata": {},
   "source": [
    "# Terningkast \n",
    "\n",
    "Brukt i forelesning onsdag uke 4, oppgave 1 og 2.\n",
    "\n",
    "## Oppgave 1\n",
    "\n",
    "### Gjennomsnitt av terningkast\n",
    "\n",
    "Kode laget av ChatGPT, link til samtale: https://chat.openai.com/share/66bae4a4-4c59-4e6a-a18d-833645e1890e (mandag 4. september 2023)."
   ]
  },
  {
   "cell_type": "code",
   "execution_count": null,
   "id": "486bc530-862c-410c-bb6f-f28aa6e2d95d",
   "metadata": {
    "tags": []
   },
   "outputs": [],
   "source": [
    "# Hardkodede terningkastresultater (endre disse verdiene etter behov)\n",
    "# y = [1, 2, 1, 0, 0, 0]  # For eksempel: 10 enere, 20 toere, 30 treere, osv.\n",
    "y = []\n",
    "\n",
    "total_sum = sum([(i + 1) * antall for i, antall in enumerate(y)])\n",
    "total_antall_kast = sum(y)\n",
    "\n",
    "gjennomsnitt = total_sum / total_antall_kast\n",
    "\n",
    "print(f\"Gjennomsnittet av terningkastene er {gjennomsnitt}\")"
   ]
  },
  {
   "cell_type": "code",
   "execution_count": null,
   "id": "708d77a3-d5c3-4765-bd4f-9d649834f627",
   "metadata": {},
   "outputs": [],
   "source": [
    "(1*y[0] + 2*y[1] + 3*y[2] + 4*y[3] + 5*y[4] + 6*y[5])/sum(y)"
   ]
  },
  {
   "cell_type": "markdown",
   "id": "f1e4eefc-32a9-475c-89c3-65c4fa408a08",
   "metadata": {},
   "source": [
    "### Empirisk varians av terningkast"
   ]
  },
  {
   "cell_type": "code",
   "execution_count": null,
   "id": "0062ba45-ce79-4ccf-8500-a7d5ff9d1497",
   "metadata": {},
   "outputs": [],
   "source": [
    "varians_sum = sum([antall * ((i + 1) - gjennomsnitt)**2 for i, antall in enumerate(y)])\n",
    "varians = varians_sum / (total_antall_kast - 1)\n",
    "\n",
    "print(f\"Den empiriske variansen til terningkastene er {varians}\")"
   ]
  },
  {
   "cell_type": "markdown",
   "id": "aaa3a40e-12e6-416d-8038-cd86d4d52567",
   "metadata": {},
   "source": [
    "### Empirisk standardavvik av terningkastene"
   ]
  },
  {
   "cell_type": "code",
   "execution_count": null,
   "id": "8d3d09d5-5a43-417f-a4a2-ec8961f2a7fe",
   "metadata": {},
   "outputs": [],
   "source": [
    "import numpy as np\n",
    "stdev = np.sqrt(varians)\n",
    "\n",
    "print(f\"Det empiriske standardavviket til terningkastene er {stdev}\")"
   ]
  },
  {
   "cell_type": "markdown",
   "id": "b0af1529-5a95-4616-8658-259e40230c96",
   "metadata": {},
   "source": [
    "### La oss kaste terning maaaaange flere ganger\n",
    "\n",
    "**Merk** at input nå er selve terningkastene, ikke antall enere, toere, osv.!"
   ]
  },
  {
   "cell_type": "code",
   "execution_count": null,
   "id": "a775724c-042b-4fc4-bd5c-7f9e14608cdd",
   "metadata": {},
   "outputs": [],
   "source": [
    "n = 100000\n",
    "x = np.zeros(n)\n",
    "for i in range(n):\n",
    "    x[i] = np.random.randint(1, 7);\n",
    "    \n",
    "print(f\"De første {min(n,100)} kastene:\\n{x[0:min(n,100)]}\")\n",
    "gjennomsnitt = sum(x)/n\n",
    "varians = sum((x-gjennomsnitt)**2)/(n-1)\n",
    "\n",
    "print(f\"Gjennomsnittet av terningkastene er {gjennomsnitt}\")\n",
    "print(f\"Variansen av terningkastene er {varians}\")\n",
    "print(f\"Standardavviket av terningkastene er {np.sqrt(varians)}\")"
   ]
  },
  {
   "cell_type": "markdown",
   "id": "9a498605-3587-4055-9b9a-0e06c6d99fd2",
   "metadata": {},
   "source": [
    "Under er kode for å plotte sannsynlighetsfordelingen og den kumulative fordelingen for den stokastiske variabelen som modellerer terningkast (ikke skrevet av ChatGPT)."
   ]
  },
  {
   "cell_type": "code",
   "execution_count": null,
   "id": "56c721ce-69ec-423f-8ce0-63ae57513f3d",
   "metadata": {
    "tags": []
   },
   "outputs": [],
   "source": [
    "import matplotlib.pyplot as plt\n",
    "\n",
    "xx = np.arange(8)\n",
    "f_x = np.concatenate(([0], np.repeat(1/6, 6), [0]))\n",
    "F_x = np.cumsum(np.concatenate(([0], f_x[0:7])))\n",
    "\n",
    "plt.figure(figsize=(12, 4))\n",
    "\n",
    "plt.subplot(1, 2, 1)\n",
    "plt.bar(xx, f_x, color = \"#B17D7D\")\n",
    "plt.xlabel(\"x\")\n",
    "plt.ylabel(\"f(x)\")\n",
    "\n",
    "plt.subplot(1, 2, 2)\n",
    "plt.step(xx, F_x, color = \"#B17D7D\") \n",
    "plt.xlabel(\"x\")\n",
    "plt.ylabel(\"F(x)\")\n",
    "\n",
    "plt.show()"
   ]
  },
  {
   "cell_type": "code",
   "execution_count": null,
   "id": "144a5a37-c6df-4b2c-8d60-20b54b8de153",
   "metadata": {},
   "outputs": [],
   "source": [
    "# Grafer fra simulerte data:\n",
    "n = 100\n",
    "x = np.zeros(n)\n",
    "for i in range(n):\n",
    "    x[i] = np.random.randint(1, 7);\n",
    "\n",
    "counts = np.unique(x, return_counts = True)\n",
    "\n",
    "plt.figure(figsize=(12, 4))\n",
    "\n",
    "plt.subplot(1, 2, 1)\n",
    "plt.bar(counts[0], counts[1]/n, color = \"#B17D7D\")\n",
    "plt.xlabel(\"x\")\n",
    "plt.ylabel(\"Tilnærmet f(x)\")\n",
    "\n",
    "plt.subplot(1, 2, 2)\n",
    "plt.step(np.concatenate(([0], counts[0], [7])), np.concatenate(([0, 0], np.cumsum(counts[1]/n))), color = \"#B17D7D\")\n",
    "plt.xlabel(\"x\")\n",
    "plt.ylabel(\"Tilnærmet F(x)\")\n",
    "\n",
    "plt.show()"
   ]
  },
  {
   "cell_type": "markdown",
   "id": "6ba25e5a-6ea5-4c35-b5af-ab902c68cbba",
   "metadata": {},
   "source": [
    "## Oppgave 2"
   ]
  },
  {
   "cell_type": "code",
   "execution_count": null,
   "id": "cca17df2-ade1-48b4-beb4-da4acf45c735",
   "metadata": {},
   "outputs": [],
   "source": [
    "import numpy as np\n",
    "import matplotlib.pyplot as plt\n",
    "\n",
    "def g_x(x):\n",
    "    return np.min(x)\n",
    "\n",
    "x = np.random.randint(1, 7, size = 3)\n",
    "\n",
    "# sjekke at g_x virker som den skal\n",
    "print(x)\n",
    "print(g_x(x))"
   ]
  },
  {
   "cell_type": "code",
   "execution_count": null,
   "id": "e3c4b08f-6adf-43c0-ba4a-b66aeb633178",
   "metadata": {},
   "outputs": [],
   "source": [
    "def sim_z(n):\n",
    "    z = np.zeros(n, dtype = int)\n",
    "    for i in range(n):\n",
    "        x = np.random.randint(1, 7, size = 3)\n",
    "        z[i] = g_x(x)\n",
    "    return(z)\n",
    "\n",
    "n = 100000\n",
    "z = sim_z(n)\n",
    "\n",
    "gjsnitt_z = (1/n) * sum(z)\n",
    "print(f\"Tilnærmet forventningsverdi er {gjsnitt_z}\")\n",
    "varians_z = (1/(n-1)) * sum((z - gjsnitt_z)**2)\n",
    "print(f\"Tilnærmet varians er {varians_z}\")\n",
    "print(f\"Tilnærmet standardavvik er {np.sqrt(varians_z)}\")"
   ]
  },
  {
   "cell_type": "code",
   "execution_count": null,
   "id": "6b123b11-9b0a-4466-8784-31ed4fcb1dc9",
   "metadata": {},
   "outputs": [],
   "source": [
    "# teller opp antall \n",
    "counts = np.unique(z, return_counts = True)\n",
    "\n",
    "plt.figure(figsize=(12, 4))\n",
    "\n",
    "plt.subplot(1, 2, 1)\n",
    "plt.bar(counts[0], counts[1]/n, color = \"#B17D7D\")\n",
    "plt.xlabel(\"x\")\n",
    "plt.ylabel(\"Tilnærmet f(x)\")\n",
    "\n",
    "plt.subplot(1, 2, 2)\n",
    "plt.step(np.concatenate(([0], counts[0], [7])), np.concatenate(([0, 0], np.cumsum(counts[1]/n))), color = \"#B17D7D\")\n",
    "plt.xlabel(\"x\")\n",
    "plt.ylabel(\"Tilnærmet F(x)\")\n",
    "plt.show()"
   ]
  },
  {
   "cell_type": "markdown",
   "id": "0c3ed201-6c32-497f-9762-a540ec7e2724",
   "metadata": {},
   "source": [
    "### Bonus\n",
    "\n",
    "Merk: Vi kan regne analytisk på dette også, men i denne oppgaven var simulering poenget. De analytiske svarene er (med 7 desimaler):\n",
    "\n",
    "| $x$ |  | $F(x)$ |  | $f(x)$ |\n",
    "|:---:|----|:------:|----|:------:|\n",
    "| $1$ |  | $0.4212963$ |  | $0.4212963$ |\n",
    "| $2$ |  | $0.7037037$ |  | $0.2824074$ |\n",
    "| $3$ |  | $0.875$ |  | $0.1712963$ |\n",
    "| $4$ |  | $0.962963$ |  | $0.08796296$ |\n",
    "| $5$ |  | $0.9953704$ |  | $0.03240741$ |\n",
    "| $6$ |  | $1$ |  | $0.00462963$ |\n",
    "\n",
    "$E(X) = 2.041667$, og $Var(X) = 1.308449$\n"
   ]
  },
  {
   "cell_type": "code",
   "execution_count": null,
   "id": "99400922-3dda-404a-a8a8-e68723615f2f",
   "metadata": {},
   "outputs": [],
   "source": []
  }
 ],
 "metadata": {
  "kernelspec": {
   "display_name": "Python 3",
   "language": "python",
   "name": "python3"
  },
  "language_info": {
   "codemirror_mode": {
    "name": "ipython",
    "version": 3
   },
   "file_extension": ".py",
   "mimetype": "text/x-python",
   "name": "python",
   "nbconvert_exporter": "python",
   "pygments_lexer": "ipython3",
   "version": "3.8.8"
  }
 },
 "nbformat": 4,
 "nbformat_minor": 5
}
