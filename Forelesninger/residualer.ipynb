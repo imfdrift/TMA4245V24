{
 "cells": [
  {
   "cell_type": "markdown",
   "id": "325ce332",
   "metadata": {},
   "source": [
    "# Residualer i enkel lineær regresjon"
   ]
  },
  {
   "cell_type": "markdown",
   "id": "10a9403d",
   "metadata": {},
   "source": [
    "Vi skal starte med å se på residualer i enkel lineær regresjon når dataen er generert etter modellantakelsene. For $i=1,2,\\ldots,n$ la\n",
    "\n",
    "$$Y_i = \\alpha + \\beta x_i + \\varepsilon_i,$$\n",
    "\n",
    "der $\\varepsilon_1,\\varepsilon_2,\\ldots,\\varepsilon_n$ er uavhengige og normalfordelte med forventningsverdi lik null og varians lik $1.5^2$. Her er altså modellen som antas i enkel lineær regresjon korrekt, og parameterverdiene er $\\alpha=-1$, $\\beta=1.5$ og $\\sigma=1.5$.\n",
    "\n",
    "I python-koden under genererer vi $x_i$ $i=1,2,...,20$ etter uniformfordelingen (merk at dette er bare for å få tilfeldige verdier for $x$ i et gitt område, vi antar at dette er kjente tall i modellen). \n",
    "Deretter genereres tilhørende verdier for $y_1,y_2,\\ldots,y_n$ ifølge modellen formulert ovenfor. De genererte verdiene visuliseres så i et spredningsplott."
   ]
  },
  {
   "cell_type": "code",
   "execution_count": null,
   "id": "964a1cb2",
   "metadata": {},
   "outputs": [],
   "source": [
    "import numpy as np\n",
    "import matplotlib.pyplot as plt"
   ]
  },
  {
   "cell_type": "code",
   "execution_count": null,
   "id": "ce60ef39",
   "metadata": {},
   "outputs": [],
   "source": [
    "# Bruker kode fra innlevering 6, oppgave 2\n",
    "#Her bestemmes regresjonsparameterne\n",
    "def estimerELR(x,y):\n",
    "    #Beregner gjennomsnitt\n",
    "    xStrek = np.mean(x)\n",
    "    yStrek = np.mean(y)\n",
    "    #Estimater for parametere\n",
    "    #forventningsrett estimator for beta\n",
    "    betaHat = np.sum((x-xStrek)*y)/np.sum((x-xStrek)**2)\n",
    "    #forventningsrett estimator for alpha\n",
    "    alphaHat = yStrek - betaHat * xStrek\n",
    "    #forventningsrett estimator for sigma^2\n",
    "    S2 = np.sum((y-(alphaHat+betaHat*x))**2)/(len(x)-2)\n",
    "    #Returnerer resultatet i en liste\n",
    "    return [alphaHat,betaHat,S2]\n",
    "\n"
   ]
  },
  {
   "cell_type": "code",
   "execution_count": null,
   "id": "76f17cae",
   "metadata": {},
   "outputs": [],
   "source": [
    "n = 50 # antall observasjoner\n",
    "# sanne parameter verdier (de vet man ikke):\n",
    "alpha = -1 \n",
    "beta = 1.5\n",
    "sigma = 1.5\n",
    "\n",
    "# generer x (ikke stokastisk, men jeg simulerer)\n",
    "x = np.random.uniform(0, 10, size=n)\n",
    "\n",
    "# generer y etter modellantakelser\n",
    "y = alpha + beta * x + np.random.normal(scale = sigma, size=n)\n",
    "\n",
    "plt.plot(x, y, '.')\n",
    "plt.xlabel(\"x\")\n",
    "plt.ylabel(\"y\")\n",
    "plt.show()"
   ]
  },
  {
   "cell_type": "markdown",
   "id": "083e5f95",
   "metadata": {},
   "source": [
    "Det ser ut som vi har en lineær trend mellom $x$ og $y$. Vi kan tilpasse en regresjonslinje til dataen ved å bruke estimatorene som vi har diskutert."
   ]
  },
  {
   "cell_type": "code",
   "execution_count": null,
   "id": "13cc0ef4",
   "metadata": {},
   "outputs": [],
   "source": [
    "#Kaller på funksjonen som estimerer parameterne\n",
    "paramHat = estimerELR(x,y)\n",
    "print('alphaHat: ',paramHat[0], '\\t\\t alpha: ', alpha)\n",
    "print('betaHat: ',paramHat[1], '\\t\\t beta: ', beta)\n",
    "print('s^2: ',paramHat[2], '\\t\\t sigma^2: ', sigma**2)   \n",
    "\n",
    "plt.plot(x, y, '.')\n",
    "plt.plot(np.array([0,10]), paramHat[0] + paramHat[1]*np.array([0,10]),'-')\n",
    "plt.xlabel(\"x\")\n",
    "plt.ylabel(\"y\")\n",
    "plt.show()"
   ]
  },
  {
   "cell_type": "markdown",
   "id": "83f4d03a",
   "metadata": {},
   "source": [
    "Vi kan sammenlikne parameterestimatene med de sanne verdiene, fordi vi kjenner dem. I den virkelige verden er disse ukjente ($\\alpha,\\beta,\\sigma$), så vi kan ikke vurdere modellantakelser  basert på estimatene direkte.\n",
    "\n",
    "En måte å vurdere modellantakelser er ved å studere residualer. Nå skal vi gjøre dette for den linja vi fant ovenfor. Vi finner residualene, og plotter dem mot $x$:"
   ]
  },
  {
   "cell_type": "code",
   "execution_count": null,
   "id": "890a87f1",
   "metadata": {},
   "outputs": [],
   "source": [
    "epsilon = y - (paramHat[0] + paramHat[1]*x) # avviket mellom observerte y-er og modellens y-er\n",
    "\n",
    "plt.plot(x, epsilon, \".\")\n",
    "plt.xlabel(\"x\")\n",
    "plt.ylabel(\"Residualer\")\n",
    "plt.show()"
   ]
  },
  {
   "cell_type": "markdown",
   "id": "1997ab0e",
   "metadata": {},
   "source": [
    "Modellantakelsene er $E[\\varepsilon_i]=0$ og $\\text{Var}[\\varepsilon_i]=\\sigma^2$ for alle $i=1,...n$, i tillegg til at vi tror de er normalfordelte. Vi kan se i plottet at det ser ut som residualene er sentrert rundt $0$, og spredningen er den samme for alle verdier av $x$, og den er symmetrisk om $0$. \n",
    "\n",
    "Her vet vi at støyet (vi laget det selv) er normalfordelt, så denne typen residualplott er det vi forventer å se dersom enkel lineærregresjonsmodellen er korrekt. Det finnes også andre måter å sjekke om noe er normalfordelt, hvilke kjenner du til?\n",
    "\n",
    "Hva skjer når modellantakelsene er feil?\n",
    "\n",
    "Det skal dere se nærmere på i innlevering 6, oppgave 2. Hva om avhengigheten ikke er lineær?"
   ]
  },
  {
   "cell_type": "code",
   "execution_count": null,
   "id": "8df928fe",
   "metadata": {},
   "outputs": [],
   "source": [
    "n = 50 # antall observasjoner\n",
    "# sanne parameter verdier (de vet man ikke):\n",
    "alpha = -1 \n",
    "beta = 1.5\n",
    "gamma = 0.3\n",
    "sigma = 1.5\n",
    "\n",
    "# generer x (ikke stokastisk, men jeg simulerer)\n",
    "x = np.random.uniform(0, 10, size=n)\n",
    "\n",
    "# generer y med en ekstra avhengighet til x^2 - lat som du ikke vet om dette :-)\n",
    "y = alpha + beta * x + np.random.normal(scale=sigma, size=n) + gamma * x**2 \n",
    "\n",
    "\n",
    "plt.plot(x, y, '.')\n",
    "plt.xlabel(\"x\")\n",
    "plt.ylabel(\"y\")\n",
    "plt.show()"
   ]
  },
  {
   "cell_type": "markdown",
   "id": "b8fb0e6c",
   "metadata": {},
   "source": [
    "Det kan se ut som vi har en linær trend mellom x og y, så vi tilpasser en lineær regresjonslinje:"
   ]
  },
  {
   "cell_type": "code",
   "execution_count": null,
   "id": "3356d579",
   "metadata": {},
   "outputs": [],
   "source": [
    "#Kaller på funksjonen som estimerer parameterne\n",
    "paramHat = estimerELR(x,y)\n",
    "print('alphaHat: ',paramHat[0])\n",
    "print('betaHat: ',paramHat[1]) \n",
    "\n",
    "plt.plot(x, y, '.')\n",
    "plt.plot(np.array([0,10]), paramHat[0] + paramHat[1]* np.array([0,10]), '-')\n",
    "plt.xlabel(\"x\")\n",
    "plt.ylabel(\"y\")\n",
    "plt.show()\n"
   ]
  },
  {
   "cell_type": "markdown",
   "id": "39376bba",
   "metadata": {},
   "source": [
    "Ser fint ut! Da er vi fornøyde, eller? \n",
    "\n",
    "La oss ta en titt på residualene:"
   ]
  },
  {
   "cell_type": "code",
   "execution_count": null,
   "id": "6ff1a478",
   "metadata": {},
   "outputs": [],
   "source": [
    "epsilon = y - (paramHat[0] + paramHat[1]*x) # avviket mellom observerte y-er og modellens y-er\n",
    "\n",
    "plt.plot(x, epsilon, \".\")\n",
    "plt.xlabel(\"x\")\n",
    "plt.ylabel(\"Residualer\")\n",
    "plt.show()"
   ]
  },
  {
   "cell_type": "markdown",
   "id": "0223eaf6",
   "metadata": {},
   "source": [
    "Oi, her ser det ikke ut som vi har identisk fordelt støy? Det ser ikke ut som forventningsverdien til residualene er 0! Her må det være noe feil i modellen. Hva? Diskuter med sidemann!\n",
    "\n",
    "\n"
   ]
  }
 ],
 "metadata": {
  "kernelspec": {
   "display_name": "Python 3 (ipykernel)",
   "language": "python",
   "name": "python3"
  },
  "language_info": {
   "codemirror_mode": {
    "name": "ipython",
    "version": 3
   },
   "file_extension": ".py",
   "mimetype": "text/x-python",
   "name": "python",
   "nbconvert_exporter": "python",
   "pygments_lexer": "ipython3",
   "version": "3.9.12"
  }
 },
 "nbformat": 4,
 "nbformat_minor": 5
}
