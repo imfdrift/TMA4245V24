{
 "cells": [
  {
   "cell_type": "code",
   "execution_count": null,
   "id": "915da68b-01b8-4d2f-ac7f-7fea8583fc3c",
   "metadata": {},
   "outputs": [],
   "source": [
    "import numpy as np\n",
    "import matplotlib.pyplot as plt"
   ]
  },
  {
   "cell_type": "code",
   "execution_count": null,
   "id": "47c59376-1a4f-45e6-b46d-f94551791a9d",
   "metadata": {},
   "outputs": [],
   "source": [
    "# kaster terning med unif[0,1]-fordeling\n",
    "def kaste_terning_unif():\n",
    "    u = np.random.rand()\n",
    "    x = int(min(6,np.floor(6*u)+1))\n",
    "    return x"
   ]
  },
  {
   "cell_type": "code",
   "execution_count": null,
   "id": "e56cb186-0d54-49d1-9e58-d54d1505c696",
   "metadata": {},
   "outputs": [],
   "source": [
    "# kaster terning med innebygd randint-funksjon\n",
    "def kaste_terning():\n",
    "    return np.random.randint(1, 7)"
   ]
  },
  {
   "cell_type": "code",
   "execution_count": null,
   "id": "b3bc232a-fd8a-448e-88d8-76261d515e17",
   "metadata": {},
   "outputs": [],
   "source": [
    "# Spesielle felter (stiger og avslutning)\n",
    "def flytteregler(posisjon, kast_resultat):\n",
    "    spesielle_felter = [1, 8, 24, 33, 36, 42, 43, 49, 56, 64, 65, 68, 74, 87]\n",
    "    nye_posisjoner = [40, 10, 5, 3, 52, 30, 62, 79, 37, 27, 82, 85, 12, 70]\n",
    "\n",
    "    ny_posisjon = posisjon + kast_resultat\n",
    "    \n",
    "    if ny_posisjon in spesielle_felter:\n",
    "        ny_posisjon_indeks = spesielle_felter.index(ny_posisjon)\n",
    "        ny_posisjon = nye_posisjoner[ny_posisjon_indeks]\n",
    "        return ny_posisjon\n",
    "    elif ny_posisjon > 90:\n",
    "        gå_tilbake = ny_posisjon-90\n",
    "        return (90-gå_tilbake)\n",
    "    else:\n",
    "        return ny_posisjon"
   ]
  },
  {
   "cell_type": "code",
   "execution_count": null,
   "id": "bde0d17b-a8de-49ec-8c7f-738051ff25c3",
   "metadata": {},
   "outputs": [],
   "source": [
    "def stigespill_2player():\n",
    "    spiller1 = 0\n",
    "    spiller2 = 0\n",
    "    vinner = 0\n",
    "\n",
    "    while spiller1 < 90 and spiller2 < 90:\n",
    "        kast_resultat1 = kaste_terning()\n",
    "        kast_resultat2 = kaste_terning()\n",
    "\n",
    "        spiller1 = flytteregler(spiller1, kast_resultat1)\n",
    "        spiller2 = flytteregler(spiller2, kast_resultat2)\n",
    "\n",
    "    if spiller1 == 90:\n",
    "        vinner = 1\n",
    "    elif spiller2 == 90:\n",
    "        vinner = 2\n",
    "        \n",
    "    return vinner"
   ]
  },
  {
   "cell_type": "code",
   "execution_count": null,
   "id": "91cc7422-52f8-40cc-ad02-41eb0afa7159",
   "metadata": {},
   "outputs": [],
   "source": [
    "# approksimert sannsynlighet for at spiller1 vinner\n",
    "n = 100\n",
    "teller_spiller1_vinn = 0\n",
    "for _ in range(n):\n",
    "    vinner = stigespill_2player()\n",
    "    if vinner == 1:\n",
    "        teller_spiller1_vinn += 1\n",
    "print(teller_spiller1_vinn/n)"
   ]
  },
  {
   "cell_type": "code",
   "execution_count": null,
   "id": "223ed729-956f-42fa-a039-f5172662f2aa",
   "metadata": {},
   "outputs": [],
   "source": [
    "# 25 spill av gangen\n",
    "m = 3000\n",
    "n = 25\n",
    "vinnerandel = np.zeros(m)\n",
    "for i in range(m):\n",
    "    teller_spiller1_vinn = 0\n",
    "    for _ in range(n):\n",
    "        vinner = stigespill_2player()\n",
    "        if vinner == 1:\n",
    "            teller_spiller1_vinn += 1\n",
    "    vinnerandel[i] = teller_spiller1_vinn/n"
   ]
  },
  {
   "cell_type": "code",
   "execution_count": null,
   "id": "8fa72b97-8310-4dbf-a127-b3500fdbce4d",
   "metadata": {},
   "outputs": [],
   "source": [
    "nsim = np.arange(1,m+1)*n\n",
    "phat = np.cumsum(vinnerandel*n)/nsim"
   ]
  },
  {
   "cell_type": "code",
   "execution_count": null,
   "id": "ff0fae0f-4472-4969-800b-0768a0b5b2b2",
   "metadata": {},
   "outputs": [],
   "source": [
    "phat[m-1]"
   ]
  },
  {
   "cell_type": "code",
   "execution_count": null,
   "id": "05751029-85bd-45a8-b46c-9448f4e69358",
   "metadata": {},
   "outputs": [],
   "source": [
    "# Plot phat against nsim\n",
    "plt.plot(nsim, phat, label='phat')\n",
    "\n",
    "# Add labels and title\n",
    "plt.xlabel('Antall simuleringer av stigespill')\n",
    "plt.ylabel('Approksimert sannsynlighet for at spiller 1 vinner')\n",
    "plt.ylim(0.4,0.6)\n",
    "plt.axhline(y=0.5, color='r', linestyle='--', label='0.5')\n",
    "\n",
    "# Show the plot\n",
    "plt.show()"
   ]
  }
 ],
 "metadata": {
  "kernelspec": {
   "display_name": "Python 3 (ipykernel)",
   "language": "python",
   "name": "python3"
  },
  "language_info": {
   "codemirror_mode": {
    "name": "ipython",
    "version": 3
   },
   "file_extension": ".py",
   "mimetype": "text/x-python",
   "name": "python",
   "nbconvert_exporter": "python",
   "pygments_lexer": "ipython3",
   "version": "3.11.6"
  }
 },
 "nbformat": 4,
 "nbformat_minor": 5
}
