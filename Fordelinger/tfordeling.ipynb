{
 "cells": [
  {
   "cell_type": "markdown",
   "id": "80430dd0-2abe-46ca-976a-fca83e891125",
   "metadata": {},
   "source": [
    "# $t$-fordeling, sannsynlighetstetthet og kumulativ sannsynlighetsfordeling\n",
    "\n",
    "$t$-fordelingen har følgende sannsynlighetstetthet:\n",
    "\n",
    "$t_{\\nu} = \\frac{\\Gamma[(\\nu+1)/2]}{\\Gamma(\\nu/2) \\sqrt{\\pi \\nu}} \\left( 1+ \\frac{x^2}{nu} \\right)^{-(\\nu+1)/2}, \\ - \\infty < x < \\infty$"
   ]
  },
  {
   "cell_type": "code",
   "execution_count": null,
   "id": "acc7327d-e0f9-4fdf-91e2-87e03867fe85",
   "metadata": {},
   "outputs": [],
   "source": [
    "import numpy as np\n",
    "from scipy import stats # gir oss statistikk-funksjoner\n",
    "import matplotlib.pyplot as plt"
   ]
  },
  {
   "cell_type": "code",
   "execution_count": null,
   "id": "1e4d8c06-0114-4f00-9933-f4b00d270766",
   "metadata": {},
   "outputs": [],
   "source": [
    "# setter noen parameterverdier\n",
    "nu = 17"
   ]
  },
  {
   "cell_type": "code",
   "execution_count": null,
   "id": "9c24bb11-56c1-4bca-988b-d3966f20e558",
   "metadata": {},
   "outputs": [],
   "source": [
    "# f(1), IKKE det samme som P(X = 1), og ikke så nyttig, så lenge X er kontinuerlig\n",
    "stats.t.pdf(1, nu)"
   ]
  },
  {
   "cell_type": "code",
   "execution_count": null,
   "id": "dee6900b-d86b-4d77-88c1-27104646c07d",
   "metadata": {},
   "outputs": [],
   "source": [
    "# P(X <= 2) = F(2)\n",
    "stats.t.cdf(2, nu)"
   ]
  },
  {
   "cell_type": "code",
   "execution_count": null,
   "id": "6878f741-658a-4842-a1d6-399155388a5e",
   "metadata": {},
   "outputs": [],
   "source": [
    "# P(X <= x_a) = 0.05, returnerer x_a\n",
    "stats.t.ppf(0.05, nu)"
   ]
  },
  {
   "cell_type": "code",
   "execution_count": null,
   "id": "3e5f75f5-08fc-4d52-84d4-15338aa2bd4a",
   "metadata": {},
   "outputs": [],
   "source": [
    "# simulere:\n",
    "np.random.standard_t(nu, size = 100)"
   ]
  },
  {
   "cell_type": "code",
   "execution_count": null,
   "id": "deee2980-c02d-4cba-bc52-26b7d87a8f1f",
   "metadata": {},
   "outputs": [],
   "source": []
  }
 ],
 "metadata": {
  "kernelspec": {
   "display_name": "Python 3",
   "language": "python",
   "name": "python3"
  },
  "language_info": {
   "codemirror_mode": {
    "name": "ipython",
    "version": 3
   },
   "file_extension": ".py",
   "mimetype": "text/x-python",
   "name": "python",
   "nbconvert_exporter": "python",
   "pygments_lexer": "ipython3",
   "version": "3.8.8"
  }
 },
 "nbformat": 4,
 "nbformat_minor": 5
}
