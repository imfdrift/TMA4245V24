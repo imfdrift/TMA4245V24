{
 "cells": [
  {
   "cell_type": "markdown",
   "id": "19df2746-5840-464c-bdfa-74eebd53c506",
   "metadata": {},
   "source": [
    "# $\\chi^2$-fordeling, sannsynlighetstetthet og kumulativ sannsynlighetsfordeling\n",
    "\n",
    "$\\chi^2$-fordelingen (kjikvadratfordelingen) har følgende sannsynlighetstetthet:\n",
    "\n",
    "$\\chi_{\\nu}^2 = \\frac{1}{2^{\\nu/2} \\Gamma(\\nu/2)} x^{\\nu/2-1} e^{-x/2}, \\ x \\geq 0, \\ \\nu = 1, 2, \\dots$"
   ]
  },
  {
   "cell_type": "code",
   "execution_count": 11,
   "id": "5360f486-b420-47c8-9f4c-b26e761bf043",
   "metadata": {},
   "outputs": [],
   "source": [
    "import numpy as np\n",
    "from scipy import stats # gir oss statistikk-funksjoner\n",
    "import matplotlib.pyplot as plt"
   ]
  },
  {
   "cell_type": "code",
   "execution_count": 12,
   "id": "d4dc426b-113e-460f-b206-f8f3d417e5d0",
   "metadata": {},
   "outputs": [],
   "source": [
    "# setter noen parameterverdier\n",
    "nu = 17"
   ]
  },
  {
   "cell_type": "code",
   "execution_count": 13,
   "id": "a8d3fa83-f3f1-4afd-88a0-df545b268cb6",
   "metadata": {},
   "outputs": [
    {
     "data": {
      "text/plain": [
       "0.041935183840951025"
      ]
     },
     "execution_count": 13,
     "metadata": {},
     "output_type": "execute_result"
    }
   ],
   "source": [
    "# f(10), IKKE det samme som P(X = 10), og ikke så nyttig, så lenge X er kontinuerlig\n",
    "stats.chi2.pdf(10, nu)"
   ]
  },
  {
   "cell_type": "code",
   "execution_count": 14,
   "id": "1fd0fe6e-b317-4e2c-b243-c746ca9f048c",
   "metadata": {},
   "outputs": [
    {
     "data": {
      "text/plain": [
       "0.7257707328920529"
      ]
     },
     "execution_count": 14,
     "metadata": {},
     "output_type": "execute_result"
    }
   ],
   "source": [
    "# P(X <= 20) = F(20)\n",
    "stats.chi2.cdf(20, nu)"
   ]
  },
  {
   "cell_type": "code",
   "execution_count": 15,
   "id": "3bf3b608-8bfb-4fab-a263-d01f455f30a7",
   "metadata": {},
   "outputs": [
    {
     "data": {
      "text/plain": [
       "8.671760204670077"
      ]
     },
     "execution_count": 15,
     "metadata": {},
     "output_type": "execute_result"
    }
   ],
   "source": [
    "# P(X <= x_a) = 0.05, returnerer x_a\n",
    "stats.chi2.ppf(0.05, nu)"
   ]
  },
  {
   "cell_type": "code",
   "execution_count": 17,
   "id": "a1f32692-014e-4904-978b-b17efa9c4c5f",
   "metadata": {},
   "outputs": [
    {
     "data": {
      "text/plain": [
       "array([23.80968015, 11.20652473, 12.00698386,  9.98690183, 13.32638428,\n",
       "        5.59786414, 14.15392446, 19.75568202, 29.39135765, 16.82657606,\n",
       "       22.72681191, 10.0903829 , 23.06340795, 23.95659162, 15.08381088,\n",
       "       15.29144479, 20.38118226, 23.51476234, 16.84309256, 15.31321562,\n",
       "       18.77704383, 16.04856272, 13.29972516, 16.87114948, 12.31021266,\n",
       "       15.332529  , 17.32190133,  7.91224453,  7.94943597, 16.84824918,\n",
       "       34.20805691, 12.48672661, 13.53294139, 10.58237542, 14.31994854,\n",
       "       15.60115996, 19.08183603, 13.64747571, 18.56408131, 11.15709332,\n",
       "       13.70416338, 15.11291924, 13.43025275,  8.95403428, 19.06382847,\n",
       "       25.5416906 , 30.63499763, 18.33844506, 16.02472415, 15.56450986,\n",
       "        9.66714075, 22.23358404, 14.95434569,  9.88779473, 10.43240656,\n",
       "       11.87507983, 17.97233806, 11.16472415, 15.06297934, 12.28484062,\n",
       "       13.73211348, 12.30469501, 17.00977611, 10.99158327, 16.02287571,\n",
       "       12.35184574, 10.01161256, 25.22044021,  8.81443716, 17.96098803,\n",
       "       16.69732779,  7.58015446,  9.3446472 , 16.48427088, 22.99977919,\n",
       "       24.71472558, 18.62945695, 24.43292409, 17.52861786, 12.8124437 ,\n",
       "       18.3211088 , 19.96865422,  8.64222231, 19.99956153, 24.42064671,\n",
       "       35.18610253, 16.21501284, 17.31347526, 21.73191931,  9.76812267,\n",
       "       12.7629151 , 12.90126348,  9.40457804, 12.12710458, 13.75930484,\n",
       "       16.08262861,  8.13468933, 11.31013504, 13.59543577, 10.61164841])"
      ]
     },
     "execution_count": 17,
     "metadata": {},
     "output_type": "execute_result"
    }
   ],
   "source": [
    "# simulere:\n",
    "np.random.chisquare(nu, size = 100)"
   ]
  },
  {
   "cell_type": "code",
   "execution_count": null,
   "id": "2465e7c0-bfc9-40bd-8c93-77595c53e413",
   "metadata": {},
   "outputs": [],
   "source": []
  }
 ],
 "metadata": {
  "kernelspec": {
   "display_name": "Python 3",
   "language": "python",
   "name": "python3"
  },
  "language_info": {
   "codemirror_mode": {
    "name": "ipython",
    "version": 3
   },
   "file_extension": ".py",
   "mimetype": "text/x-python",
   "name": "python",
   "nbconvert_exporter": "python",
   "pygments_lexer": "ipython3",
   "version": "3.8.8"
  }
 },
 "nbformat": 4,
 "nbformat_minor": 5
}
