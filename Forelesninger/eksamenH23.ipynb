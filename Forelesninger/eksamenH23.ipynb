{
 "cells": [
  {
   "cell_type": "code",
   "execution_count": null,
   "id": "6b224010-7f76-4a68-8369-1ba45c2c2485",
   "metadata": {},
   "outputs": [],
   "source": [
    "import numpy as np"
   ]
  },
  {
   "cell_type": "code",
   "execution_count": null,
   "id": "5d2343d0-4e98-4b12-b4d8-0c31a6f4b1d3",
   "metadata": {},
   "outputs": [],
   "source": [
    "def simY(n,phi):\n",
    "    u = np.random.uniform(size=n)\n",
    "    y = phi*np.sqrt(u)\n",
    "    return(y)"
   ]
  },
  {
   "cell_type": "code",
   "execution_count": null,
   "id": "137eb1fd-7e33-4ffa-a692-a3345e9dc245",
   "metadata": {},
   "outputs": [],
   "source": [
    "sim1 = simY(n=1000,phi=5)\n",
    "print(sim1[0:5])"
   ]
  },
  {
   "cell_type": "code",
   "execution_count": null,
   "id": "408cca73-d747-4d50-b677-8e3e29a4a2bb",
   "metadata": {},
   "outputs": [],
   "source": [
    "import matplotlib.pyplot as plt\n",
    "\n",
    "plt.hist(sim1, density=True,bins=10,edgecolor=\"black\") #density=True gjør at vi får et sannsynlighetshistogram\n",
    "plt.ylabel('Approksimert tetthet'); plt.xlabel('y')\n",
    "plt.show()"
   ]
  }
 ],
 "metadata": {
  "kernelspec": {
   "display_name": "Python 3 (ipykernel)",
   "language": "python",
   "name": "python3"
  },
  "language_info": {
   "codemirror_mode": {
    "name": "ipython",
    "version": 3
   },
   "file_extension": ".py",
   "mimetype": "text/x-python",
   "name": "python",
   "nbconvert_exporter": "python",
   "pygments_lexer": "ipython3",
   "version": "3.11.6"
  }
 },
 "nbformat": 4,
 "nbformat_minor": 5
}
