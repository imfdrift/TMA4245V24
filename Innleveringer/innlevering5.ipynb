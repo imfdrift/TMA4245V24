{
 "cells": [
  {
   "cell_type": "markdown",
   "id": "2c97972e-5e36-433b-8dfa-53cb6f6e8985",
   "metadata": {},
   "source": [
    "# Innlevering 5"
   ]
  },
  {
   "cell_type": "markdown",
   "id": "410f661b-d1a0-467a-9155-81a71f92bc82",
   "metadata": {},
   "source": [
    "## Oppgave 1 *"
   ]
  },
  {
   "cell_type": "markdown",
   "id": "1a03ce05-a93b-4b1c-99fe-e15b3ba103c3",
   "metadata": {},
   "source": [
    "I situasjoner der det er uklart hvem som er den biologiske faren til et barn kan farskapet avklares ved å sammenligne DNA-prøver fra barnet med mulige fedre. For en mulig far gjøres dette ved å sammenligne $n$ ulike deler av DNA-strukturen til mannen med de samme $n$ deler av DNA-strukturen hos barnet. De $n$ undersøkte delene av DNA-strukturen skal vi anta er uavhengige. \n",
    "\n",
    "Hos et barn og en tilfeldig valgt mann (som ikke er biologisk far) er det for hver enkel del av DNA-strukturen som undersøkes en sannsynlighet $p = 0.15$ for at delen er sammenfallende hos barnet og mannen. Anta videre at en biologisk far alltid har alle de undersøkte delene av DNA-strukturen sammenfallende med barnets (dvs. vi ser bort fra mutasjoner o.l.), slik at hver undersøkte del av DNA-strukturen hos biologisk far og barn er sammenfallende med sannsynlighet $p = 1$.\n",
    "\n",
    "I denne oppgaven skal vi anta at $n=5$ deler av DNA-strukturen sammenlignes. Vi lar $X$ være antall sammenfallende deler av DNA-strukturen hos et barn og en tilfeldig mann (som ikke er biologisk far).\n"
   ]
  },
  {
   "cell_type": "markdown",
   "id": "784cb46e-4c92-4912-8183-2e7c7320b959",
   "metadata": {},
   "source": [
    "### Deloppgave a)"
   ]
  },
  {
   "cell_type": "markdown",
   "id": "3126e560-fe80-465e-9b6b-ad803f8441f8",
   "metadata": {},
   "source": [
    "Begrunn av $X$ er binomisk fordelt med parametere $n$ og $p=0.15$.\n",
    "\n",
    "Regn ut sannsynlighetene $P(X=3)$, $P(X\\geq 3)$ og $P(X=3|X\\geq 2)$.\n",
    "#### Her er deloppgave a) slutt"
   ]
  },
  {
   "cell_type": "markdown",
   "id": "6bee2132-cc6f-400f-9218-999f495cd3c7",
   "metadata": {},
   "source": [
    "I en farsskapssak blir en mann erklært å være biologisk far dersom alle de $n$ undersøkte delene av DNA-strukturen er sammenfallende hos mannen og barnet. Dette kan vi se på som en hypotesetest der vi tester\n",
    "\n",
    "\\begin{align*}\n",
    "H_0: p=0.15 \\,\\mbox{(ikke far)} \\,\\,\\,\\,\\,\\, \\mbox{mot}\\,\\,\\,\\,\\,\\, H_1: p=1\\, \\mbox{(far)}.\n",
    "\\end{align*}\n",
    "\n",
    "og forkaster $H_0$ (dvs. erklærer at mannen er far til barnet) dersom $X=n$."
   ]
  },
  {
   "cell_type": "markdown",
   "id": "3e7a0974-cb90-4fb6-ba00-dae6b155c12e",
   "metadata": {},
   "source": [
    "### Deloppgave b)\n",
    "Hva er sannsynligheten for å gjøre en type I-feil i denne testen?\n",
    "\n",
    "Hva er sannsynligheten for å gjøre en type II-feil i denne testen? "
   ]
  },
  {
   "cell_type": "markdown",
   "id": "d88105c1-cc75-4f2c-9078-00a9165535dc",
   "metadata": {},
   "source": [
    "## Oppgave 2 *"
   ]
  },
  {
   "cell_type": "markdown",
   "id": "2a3260c4-e7d2-4298-963d-31e15121565d",
   "metadata": {},
   "source": [
    "På et av de mange oppdrettsanleggene på Frøya ønsker oppdretteren å vite hvor mange (oppdretts)laks han har i en av merdene. Du er blitt engasjert som konsulent for å bistå. I en merd finnes det $m$ laks, der $m$ er ukjent og skal estimeres. Vi skal  undersøke følgende metode: Vi fanger først $r$ laks og merker disse før de legges ut i merden igjen. Siden det er vi som velger hvor mange laks vi vil merke er $r$ selvfølgelig et kjent tall. Etter en stund begynner vi å fange en og en laks, og for hver laks vi fanger sjekker vi om laksen er merket eller ei og legger den ut i merden igjen før vi fanger neste laks. Slik holder vi på inntil vi $k$ ganger har fanget en laks som er merket. Merk at siden $k$ er et tall vi velger vil også dette være et kjent tall. La $X$ være antall laks vi fanger (i den andre fasen hvor vi fanger en og en laks) frem til vi har fanget $k$ merkede laks."
   ]
  },
  {
   "cell_type": "markdown",
   "id": "92ad9af6-6bfa-42d8-a78d-c512cb97248d",
   "metadata": {},
   "source": [
    "### Deloppgave a)\n",
    "Hvilke antagelser og eventuelt tilnærmelser må vi gjøre for å kunne betrakte $X$ som negativt binomisk fordelt med parametere $k$ og $p=r/m$?\n",
    "#### Her er deloppgave a) slutt"
   ]
  },
  {
   "cell_type": "markdown",
   "id": "5e2c20d0-e8d3-4134-9f4f-36ed4c43a7d1",
   "metadata": {},
   "source": [
    "Videre i oppgaven forutsetter vi at de antagelser og tilnærmelser som ligger til grunn for resultatet i a) er oppfylt. Dessuten, selv om antall laks $m$ i merden må være et heltall, skal vi videre i oppgaven regne som om $m$ er et reelt tall."
   ]
  },
  {
   "cell_type": "markdown",
   "id": "6910a33a-59d8-499b-8b5b-ed60352dd790",
   "metadata": {},
   "source": [
    "### Deloppgave b)\n",
    "Utled sannsynlighetsmaksimeringsestimatoren for $m$, $\\hat{m}$.\n",
    "\n",
    "Finn forventningsverdi og varians til $\\hat{m}$.\n",
    "#### Her er deloppgave b) slutt"
   ]
  },
  {
   "cell_type": "markdown",
   "id": "690e78ba-e714-43ba-867a-e3c6ab3646c7",
   "metadata": {},
   "source": [
    "Hvis $k$ er tilstrekkelig stor vil $X$ være tilnærmet normalfordelt. Dette følger fra sentralgrenseteoremet fordi $X$ da kan skrives som en sum av mange uavhengige og identisk fordelte variabler. Du trenger ikke å bevise dette, men du kan benytte resultatet til å løse den siste deloppgaven.\n",
    "\n",
    "Etter en høststorm undrer oppdretteren på om det er rømt noen oppdrettslaks fra en av de andre merdene på oppdrettsanlegget. Dagen før stormen var det $m=50, 000$ laks i den aktuelle merden. Det blir derfor bestemt å estimere antall laks i merden etter høststormen. For dette benyttes det $r=1000$ og $k=20$, og det viste seg at man måtte fange $728$ laks."
   ]
  },
  {
   "cell_type": "markdown",
   "id": "9e92edf5-338d-4617-b1a3-93c3aecb7b00",
   "metadata": {},
   "source": [
    "### Deloppgave c)"
   ]
  },
  {
   "cell_type": "markdown",
   "id": "6cfbae07-134e-41ac-98b8-ad8e9ce7a932",
   "metadata": {},
   "source": [
    "Har oppdretteren noen grunn til å bekymre seg over rømt laks på et (tilnærmet) $\\alpha=5\\%$ signifikansnivå? Formuler hypotesene $H_0$ og $H_1$, velg en testobservator, bestem en beslutningsregel og finn hva konklusjonen blir med den observerte vedrien."
   ]
  },
  {
   "cell_type": "markdown",
   "id": "95d5b3b0",
   "metadata": {},
   "source": [
    "## Oppgave 3"
   ]
  },
  {
   "cell_type": "markdown",
   "id": "90b5f0bd",
   "metadata": {},
   "source": [
    "SAR (Synthetic Aperture Radar) er en målemetode som benyttes for å kartlegge jordoverflaten fra satelitt. Teknikken går kort fortalt ut på at man sender ut radarstråler fra satelitten og observerer hvor mye av denne strålingen som reflekteres tilbake. Hvor mye av radarstrålingen som reflekteres, avhenger av egenskapene til jordoverflaten på den aktuelle posisjonen og dermed kan man skille mellom ulike overflatetyper. En observasjon gjøres egentlig ved at man tar flere målinger (såkalte “looks”) og summerer disse. Ut fra fysiske lover for radarstråler er det kjent at en observasjon, $X$, vil være gammafordelt med parametre $\\alpha=a$ og $\\beta = r/a$, dvs. sannsynlighetstettheten er gitt ved\n",
    "\n",
    "\\begin{align*}\n",
    "f(x) = \\frac{a^a}{r^a\\Gamma(a)}x^{a-1}\\exp\\left\\{-\\frac{ax}{r}\\right\\}, \\,\\,x\\geq 0,\n",
    "\\end{align*}\n",
    "\n",
    "der $a$ er antall “looks” og refleksivitetsparameteren $r$ er en størrelse som beskriver refleksjonsegenskapene til jordoverflaten der observasjonen gjøres. Ut fra kjente formler for forventningsverdi og varians for gammafordelingen vet vi dermed også at tilhørende forventningsverdi og varians er gitt ved\n",
    "\n",
    "\\begin{align*}\n",
    "E[X] = r\\,\\,\\,\\,\\,\\mbox{og}\\,\\,\\,\\,\\,\\,\\mbox{Var}[X]=\\frac{r^2}{a}.\n",
    "\\end{align*}\n",
    "\n",
    "Vi skal nå anta at vi har $n$ observasjoner fra et homogent område (dvs. verdien på $r$ er den samme for alle de $n$ observasjonene). La $X_1, X_2,\\ldots, X_n$ være de $n$ observasjonene og anta at de er uavhengige. Fra disse observasjonene er vi interessert i å estimere $r$. Antall “looks”, $a=5$, antar vi kjent. Som estimator for $r$ skal vi benytte\n",
    "\n",
    "\\begin{align*}\n",
    "\\hat{r}=\\overline{X} = \\frac{1}{n}\\sum_{i=1}^n X_i.\n",
    "\\end{align*}"
   ]
  },
  {
   "cell_type": "markdown",
   "id": "bff83039",
   "metadata": {},
   "source": [
    "### Deloppgave a)\n",
    "Finn forventningsverdi og varians til estimatoren $\\hat{r}$.\n",
    "\n",
    "Forklar hvordan du kan bruke sentralgrenseteoremet til å konkludere at \n",
    "\n",
    "\\begin{align*}\n",
    "\\frac{\\hat{r}-r}{r}\\sqrt{na} \n",
    "\\end{align*}\n",
    "\n",
    "er tilmærmet standard normalfordelt når $n$ er stor (nok).\n",
    "\n",
    "#### Her er deloppgave a) slutt."
   ]
  },
  {
   "cell_type": "markdown",
   "id": "f3fb680c",
   "metadata": {},
   "source": [
    "Vi fokuserer nå på et område hvor det er kjent at det for et år siden var en overflatetype som hadde refleksjonsparameter $r_0=12.5$. For å undersøke om overflaten har endret seg siden i fjor på en slik måte at refleksjonsparameteren har økt, gjøres det $n=20$ målinger med $a=5$ looks fra det aktuelle området. De $n=20$ observerte verdiene er som følger:\n",
    "\n",
    "\\begin{align*}\n",
    "&7.98,10.82,15.88,17.00,24.22,12.20,8.17,16.53,7.46,14.31,34.55,\\\\\n",
    "&19.46,20.21,13.58,10.98,4.42,24.92,30.29,23.45,23.36\n",
    "\\end{align*}\n",
    "\n",
    "Vi ønsker nå å benytte disse verdiene til å undersøke om det er grunnlag til å påstå at verdien til refleksjonsparameterem har økt siden i fjor. \n",
    "\n",
    "Videre i oppgaven skal vi forutsette at $n=20$ observasjoner er tilstrekkelig til at normalapproksimasjonen diskutert i deloppgave a) er god, slik at du kan benytte denne i dine videre beregninger."
   ]
  },
  {
   "cell_type": "markdown",
   "id": "b46e558f",
   "metadata": {},
   "source": [
    "### Deloppgave b)\n",
    "For å få et første inntrykk at de $n=20$ observerte verdiene, bruk verdiene til å lage følgende plott i python\n",
    "\n",
    "  - histogram\n",
    "  - boksplott (for dette kan du bruke funksjonen boxplot i modulen matplotlib.pyplot)\n",
    "  \n",
    "Ut fra hva du ser i plottene, hva tror du om verdien av refleksjonsparameteren i år i forhold til i fjor? Tror du det er grunnlag for å påstå at verdien har økt siden i fjor?"
   ]
  },
  {
   "cell_type": "code",
   "execution_count": null,
   "id": "023471d2",
   "metadata": {},
   "outputs": [],
   "source": [
    "# Her kan du skrive din python-kode(husk å importere nødvendige bibliotek)\n"
   ]
  },
  {
   "cell_type": "markdown",
   "id": "ff9ec0f2",
   "metadata": {},
   "source": [
    "### Deloppgave c)\n",
    "Formuler problemstillingen gitt over som et hypotesetestingsproblem. Formuler null- og alternativ hypotese, velg testobservator, bestem beslutningsregel og finn hva konklusjonen blir basert på de observerte verdiene gitt over for signifikansnivå $\\alpha=0.10$.\n",
    "\n",
    "#### Her er deloppgave c) slutt.\n",
    "Anta at man også ønsker å gjøre en tilsvarende undersøkelse av et annet område som også hadde refleksjonsparameter $r_0=12.5$ i fjor. Før man gjør observasjoner fra dette området ønsker man å bestemme hvor mange observasjoner $n$ man bør gjøre for at sannsynligheten for type II-feil skal være tilstrekkelig lav. Vi skal anta at man fremdeles bruker observasjoner med $a=5$ looks og at signifikansnivået fremdeles settes lik $\\alpha=0.10$.\n",
    "\n",
    "### Deloppgave d)\n",
    "Bestem hvor mange observasjoner, $n$, man minst må gjøre for at sannsynligheten for type II-feil skal være mindre enn eller lik $0.20$ dersom refleksjonsparameteren er større enn eller lik $15$.\n",
    "\n",
    "#### Her er deloppgave d) slutt.\n",
    "I deloppgave c) og d) har vi regnet som om størrelsen diskutert i deloppgave a) er standard normalfordelt. Dette er en approksimasjon, noe som innebærer at beslutningsregelen bestemt i deloppgave c) kan ha en sannsynlighet for type I-feil som avviker noe fra $0.10$. I neste deloppgave skal du bruke stokastisk simulering til å estimere den faktiske sansynligheten for type I-feil som man får ved å benytte beslutningsregelen fra deloppgave c)."
   ]
  },
  {
   "cell_type": "markdown",
   "id": "2e670abc",
   "metadata": {},
   "source": [
    "### Deloppgave e)\n",
    "Skriv en python-funksjon som først simulerer $n=20$ \"observasjoner\" fra gammafordelingen som gjelder når $H_0$ er sann, og deretter benytter disse observasjonene til å evaluere og returnere verdien til den tilhørende testobservatoren. <em>Merk: For å generere realisasjoner fra en gammafordeling kan du benytte funksjonen gamma i modulen numpy.random. Se mappen \"Fordelinger\" i JupyterHub for eksempel på bruk av funksjonen.</em>\n",
    "\n",
    "Benytt så denne python-funksjonen, for eksempel $m=100\\, 000$ ganger, til å estimere testens eksakte sannsynlighet for type I-feil. Finn også et $95\\%$-konfidensintervall for den eksakte sannsynligheten for type I-feil. Basert på resultatene du har fått her, hva tenker du om kvaliteten av approksimasjonen du gjorde da du i deloppgave c) regnet som om testobservatoren var standard normalfordelt under $H_0$?"
   ]
  },
  {
   "cell_type": "code",
   "execution_count": null,
   "id": "2cfc0f2f",
   "metadata": {},
   "outputs": [],
   "source": [
    "# Her kan du skrive din python-kode.\n"
   ]
  },
  {
   "cell_type": "markdown",
   "id": "ef1e3e0d",
   "metadata": {},
   "source": [
    "## Oppgave 4"
   ]
  },
  {
   "cell_type": "markdown",
   "id": "933be2b7",
   "metadata": {},
   "source": [
    "Anta at man har gjennomført en medisinsk studie for å vurdere om en ny medisin for en bestemt sykdom er bedre enn den tradisjonelle medisinen som har vært benyttet for denne sykdommen. Det var $n=15$ pasienter som deltok i studien. Av disse $n$ pasientene ble $m=7$ tilfeldig trukket ut og disse $m$ pasientene ble gitt den nye medisinen. De øvrige $n-m=8$ pasientene fikk den gamle medisinen.\n",
    "\n",
    "Effekten av behandlingen (medisinen) kan måles ved hjelp av en blodprøve. Vi skal i denne oppgaven anta at en lav blodprøveverdi er en indikasjon på at medisinen som er gitt har hatt en god effekt. Jo lavere blodprøveverdien er, jo bedre har effekten av medisinen vært.\n",
    "\n",
    "I denne oppgaven ønsker vi å bruke følgende observerte blodprøveverdier til å vurdere om det er grunnlag for å påstå at den nye medisinen er mer effektiv enn den gamle.\n",
    "\n",
    "\n",
    "Tradisjonell medisin | 0.189 | 0.743 | 0.605 | 0.044 | 0.091 | 0.045 | 0.532 | 0.642 |\n",
    ":-----------|---:|---:|---:|---:|---:|---:|---:|---:|\n",
    "__Ny medisin__ | __0.397__ | __0.583__ | __0.355__ | __0.054__ | __0.155__ | __0.066__ | __0.099__ | |\n",
    "\n",
    "Vi skal formulere problemet som en hypotesetest og som testobservator skal vi benytte gjennomsnittet av observerte blodprøveverdier for pasienter som fikk ny medisin minus gjennomsnittet av observerte blodprøveverdier for pasienter som fikk den tradisjonelle medisinen.\n"
   ]
  },
  {
   "cell_type": "markdown",
   "id": "c266149e",
   "metadata": {},
   "source": [
    "### Deloppgave a)\n",
    "For å få et første inntrykk at de observerte verdiene, lag et boksplott for observerte blodprøveverdiene for pasientene som fikk tradisjonell medisin, og et boksplott for observerte blodprøveverdier for pasienter som fikk ny medisin. <em>Hint: Jobben blir gjort ved å kjøre koden under. Du trenger ikke endre på den gitte koden.</em>"
   ]
  },
  {
   "cell_type": "code",
   "execution_count": null,
   "id": "d68f8b3a",
   "metadata": {},
   "outputs": [],
   "source": [
    "import pandas as pd\n",
    "import numpy as np\n",
    "import matplotlib.pyplot as plt\n",
    "import seaborn as sns\n",
    "\n",
    "x = [0.189,0.743,0.605,0.044,0.091,0.045,0.532,0.642,\n",
    "     0.397,0.583,0.355,0.054,0.155,0.066,0.099]\n",
    "data = pd.DataFrame({'verdi': x, 'medisin': \n",
    "                     ['Trad', 'Trad', 'Trad', 'Trad', 'Trad', 'Trad', 'Trad', 'Trad', \n",
    "                      'Ny', 'Ny', 'Ny', 'Ny', 'Ny', 'Ny', 'Ny']})\n",
    "\n",
    "sns.boxplot(x='medisin',y='verdi',data=data)\n",
    "plt.show()"
   ]
  },
  {
   "cell_type": "markdown",
   "id": "35da4ac5",
   "metadata": {},
   "source": [
    "Ut fra hva du ser i disse to boksplottene, tenker du at det er grunnlag for å påstå at den nye medisinen gir bedre effekt enn den tradisjonelle? Gi argumenter for ditt svar.\n",
    "\n",
    "#### Deloppgave b)\n",
    "Formuler nullhypotese $H_0$ og alternativ hypotese $H_1$ for problemstillingen beskrevet i innledningen til oppgaven.\n",
    "\n",
    "Bestem hvilken beslutningsregel det er rimelig å bruke. <em>Merk: Du trenger ikke å finne kritisk verdi, bare bestemme om man skal forkaste $H_0$ når testobservatoren er stor nok, om man skal forkaste $H_0$ når testobservatoren er liten nok, eller om man bør ha et tosidig forkastningskriterium.</em>\n",
    "\n",
    "Skriv og kjør python-kode som bruker stokastiske simulering til å estimere p-verdien i en permutasjonstest når observasjonene er som gitt over. Benytt gjerne $m=10\\, 000$ simuleringer for å estimere p-verdien. <em>Hint: Koden under regner ut observert verdi av testobservatoren og <b>en</b> simulert verdi av denne. Du er nødt til å modifisere denne koden slik at den gjør det som det spørres om.</em>"
   ]
  },
  {
   "cell_type": "code",
   "execution_count": null,
   "id": "83377c76",
   "metadata": {},
   "outputs": [],
   "source": [
    "def testStatistic(x,nTrad):  \n",
    "    #x inneholder alle observerte verdier, de nTrad \n",
    "    #første av disse er for pasienter som som fikk tradisjonell medisin    \n",
    "    \n",
    "    #gjennomsnitt av observerte verdier for pasienter som fikk tradisjonell medisin:\n",
    "    meanTrad = np.mean(x[0:(nTrad+1)])\n",
    "    #gjennomsnitt av observerte verdier for pasienter som fikk by medisin\n",
    "    meanNew = np.mean(x[(nTrad+1):]) \n",
    "    \n",
    "    return meanNew - meanTrad  #returnerer differansen\n",
    "\n",
    "\n",
    "from random import sample\n",
    "\n",
    "# regner ut observert verdi av testobservatoren:\n",
    "statisticObserved = testStatistic(x = x,nTrad = 8)  \n",
    "print('Observert verdi: ',statisticObserved)\n",
    "\n",
    "# genererer tilfeldig en permutasjon av (alle) elementene i lista x:\n",
    "xPermuted = sample(x,len(x))  \n",
    "# regner ut simulert verdi av testobservatoren\n",
    "statisticSimulated = testStatistic(xPermuted,8) \n",
    "print('Simulert verdi: ',statisticSimulated)\n"
   ]
  },
  {
   "cell_type": "markdown",
   "id": "cc4890fa-e636-4ba4-9789-a66deadd6d6b",
   "metadata": {},
   "source": [
    "## Fasit:\n",
    "* Oppgave 1a): $0.0244$, $0.0266$, $0.1480$\n",
    "* Oppgave 1b): $7.594\\cdot 10^{-5}$, $0$\n",
    "* Oppgave 2b): $\\hat{m}=\\frac{Xr}{k}$, $E[\\hat{m}]=m$, $\\mbox{Var}[\\hat{m}]=m(m-r)/k$\n",
    "* Oppgave 2c): $H_0:\\:m=50000$. Forkaster ikke $H_0$.\n",
    "* Oppgave 3a: $E[\\hat r]=r$, $\\text{Var}[\\hat r] = \\frac{r^2}{na}$\n",
    "* Oppgave 3c: Forkast $H_0$.\n",
    "* Oppgave 3d: $n=27$\n",
    "* Oppgave 4a: Ja."
   ]
  }
 ],
 "metadata": {
  "kernelspec": {
   "display_name": "Python 3 (ipykernel)",
   "language": "python",
   "name": "python3"
  },
  "language_info": {
   "codemirror_mode": {
    "name": "ipython",
    "version": 3
   },
   "file_extension": ".py",
   "mimetype": "text/x-python",
   "name": "python",
   "nbconvert_exporter": "python",
   "pygments_lexer": "ipython3",
   "version": "3.9.12"
  }
 },
 "nbformat": 4,
 "nbformat_minor": 5
}
