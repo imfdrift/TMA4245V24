{
 "cells": [
  {
   "cell_type": "markdown",
   "id": "08ce2b53-e793-45b9-bd1d-216f9b538b20",
   "metadata": {},
   "source": [
    "# Binomiske punktsannsynligheter og kumulative sannsynligheter\n",
    "\n",
    "Binomisk fordeling har følgende punktsannsynlighet:\n",
    "\n",
    "$\\text{Bin}(n, p) = \\binom{n}{x} p^x (1-p)^{n-x}$, for $x = 0, 1, \\dots, 10$, og $0$ ellers.\n",
    "\n",
    "Kumulativ fordeling har ikke et enkelt uttrykk."
   ]
  },
  {
   "cell_type": "code",
   "execution_count": null,
   "id": "a90c3a61-2879-4aa8-8dcb-f1b8cf176ee7",
   "metadata": {},
   "outputs": [],
   "source": [
    "import numpy as np\n",
    "from scipy import stats # gir oss statistikk-funksjoner\n",
    "import matplotlib.pyplot as plt"
   ]
  },
  {
   "cell_type": "markdown",
   "id": "ca29891a-cc40-4a56-97a7-f21520fb7183",
   "metadata": {},
   "source": [
    "Vi setter parameterverdier som ble brukt i Oppgave 1, onsdag uke 5:"
   ]
  },
  {
   "cell_type": "code",
   "execution_count": null,
   "id": "cecb71e6-a57f-42a3-a7b8-f90ddd60629a",
   "metadata": {},
   "outputs": [],
   "source": [
    "n = 10\n",
    "p = 0.2"
   ]
  },
  {
   "cell_type": "code",
   "execution_count": null,
   "id": "7ef70946-d5f2-442c-bbd3-b63be2f7b72e",
   "metadata": {},
   "outputs": [],
   "source": [
    "# P(X = 0)\n",
    "stats.binom.pmf(0, n, p)"
   ]
  },
  {
   "cell_type": "code",
   "execution_count": null,
   "id": "d5731cd6-1180-46f7-aba9-199a072861c0",
   "metadata": {},
   "outputs": [],
   "source": [
    "# P(X = 0) + P(X = 1) + P(X = 2) + P(X = 3)\n",
    "stats.binom.pmf(0, n, p) + stats.binom.pmf(1, n, p) + stats.binom.pmf(2, n, p) + stats.binom.pmf(3, n, p)"
   ]
  },
  {
   "cell_type": "code",
   "execution_count": null,
   "id": "3f158b2e-66f9-40fc-86c8-1d127346b1a6",
   "metadata": {},
   "outputs": [],
   "source": [
    "# P(X <= 3)\n",
    "stats.binom.cdf(3, n, p)"
   ]
  },
  {
   "cell_type": "code",
   "execution_count": null,
   "id": "18c475a2-8aac-49d4-b4c3-27526d013bae",
   "metadata": {},
   "outputs": [],
   "source": [
    "# simulere:\n",
    "np.random.binomial(n, p, size = 100)"
   ]
  }
 ],
 "metadata": {
  "kernelspec": {
   "display_name": "Python 3",
   "language": "python",
   "name": "python3"
  },
  "language_info": {
   "codemirror_mode": {
    "name": "ipython",
    "version": 3
   },
   "file_extension": ".py",
   "mimetype": "text/x-python",
   "name": "python",
   "nbconvert_exporter": "python",
   "pygments_lexer": "ipython3",
   "version": "3.8.8"
  }
 },
 "nbformat": 4,
 "nbformat_minor": 5
}
