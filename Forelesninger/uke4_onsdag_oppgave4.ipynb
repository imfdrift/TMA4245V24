{
 "cells": [
  {
   "cell_type": "markdown",
   "id": "454cc44a-54dc-494f-8db4-971ab7bf6c2f",
   "metadata": {},
   "source": [
    "# Onsdag 24. januar, oppgave 4\n",
    "\n",
    "Approksimering av $E(X)$ og $Var(X)$ når $X$ har sannsynlighetstetthet\n",
    "\n",
    "$$f(x) = \\begin{cases}\n",
    "\\alpha \\beta x^{\\beta-1} e^{-\\alpha x^{\\beta}}, \\ x \\geq 0 \\\\\n",
    "0, \\ \\text{ellers}\n",
    "\\end{cases}$$\n",
    "\n",
    "I a) finner vi at $F(X) = 1-e^{-\\alpha x^{\\beta}}$."
   ]
  },
  {
   "cell_type": "code",
   "execution_count": null,
   "id": "6cc04bc0-f4ca-4bfe-9a38-6e713168bdee",
   "metadata": {},
   "outputs": [],
   "source": [
    "import numpy as np\n",
    "import matplotlib.pyplot as plt\n",
    "\n",
    "def sim_x(n, alpha, beta):\n",
    "    u = np.random.uniform(size = n)\n",
    "    x = (-np.log(u)/alpha)**(1/beta)\n",
    "    return x"
   ]
  },
  {
   "cell_type": "code",
   "execution_count": null,
   "id": "719caea6-7778-44cf-b348-126ae5575c85",
   "metadata": {},
   "outputs": [],
   "source": [
    "n = 100000\n",
    "alpha = 1.7\n",
    "beta = 1.5\n",
    "\n",
    "# simuler realisasjoner av X\n",
    "x = sim_x(n, alpha, beta)\n",
    "\n",
    "def f_X(x, alpha, beta): \n",
    "    return alpha * beta * x**(beta-1) * np.exp(-alpha * x**beta)\n",
    "\n",
    "x_vals = np.linspace(0,2,1000)\n",
    "\n",
    "# Lag sannsynlighetshistogram for de simulerte verdiene,\n",
    "# for å sjekke at vi har regnet riktig\n",
    "plt.hist(x, density = True, bins = 100, color = \"#B17D7D\")\n",
    "plt.xlabel(\"x\")\n",
    "plt.ylabel(\"f(x)\")\n",
    "plt.plot(x_vals, f_X(x_vals, alpha, beta), color = \"black\") \n",
    "plt.show()"
   ]
  },
  {
   "cell_type": "code",
   "execution_count": null,
   "id": "261fa3be-fd6b-4e90-8ce3-523c6f623085",
   "metadata": {},
   "outputs": [],
   "source": [
    "gjsnitt = (1/n) * sum(x)\n",
    "varians = (1/(n-1)) * sum((x - gjsnitt)**2)\n",
    "print(f\"Tilnærmet forventningsverdi er {gjsnitt}\")\n",
    "print(f\"Tilnærmet varians er {varians}\")"
   ]
  },
  {
   "cell_type": "markdown",
   "id": "1d9fb40b-71c9-4ac6-aa1e-7a0f694a9b09",
   "metadata": {},
   "source": [
    "### Bonus\n",
    "\n",
    "\n",
    "Dette er egentlig en kjent fordeling som heter **Weibullfordelingen**. Vi kjenner analytiske uttrykk for forventningsverdi og varians:\n",
    "\n",
    "$$E(X) = \\alpha^{-1/\\beta} \\Gamma(1 + \\frac{1}{\\beta})$$\n",
    "\n",
    "$$Var(X) = \\alpha^{-2/\\beta} \\left[\\Gamma(1 + \\frac{2}{\\beta}) - \\Gamma(1 + \\frac{1}{\\beta})^2 \\right]$$\n",
    "\n",
    "Vi kan bruke disse til å sjekke at vi har implementert riktig:"
   ]
  },
  {
   "cell_type": "code",
   "execution_count": null,
   "id": "63f38f4d-c54f-4734-92f0-796539631387",
   "metadata": {},
   "outputs": [],
   "source": [
    "sann_forventning = alpha**(-1/beta) * np.math.gamma(1 + 1/beta)\n",
    "sann_varians= alpha**(-2/beta) * (np.math.gamma(1 + 2/beta) - np.math.gamma(1 + 1/beta)**2)\n",
    "print(f\"Faktisk forventningsverdi er {sann_forventning}\")\n",
    "print(f\"Faktisk varians er {sann_varians}\")"
   ]
  },
  {
   "cell_type": "markdown",
   "id": "1575fe3c-eda3-4142-be6f-48729bd2dc19",
   "metadata": {},
   "source": [
    "Til slutt vil vi regne ut forskjellen mellom estimert og sann/faktisk verdi:"
   ]
  },
  {
   "cell_type": "code",
   "execution_count": null,
   "id": "800f96df-30f2-4043-a5e0-6a95149d963a",
   "metadata": {},
   "outputs": [],
   "source": [
    "print(np.abs(gjsnitt - sann_forventning))\n",
    "print(np.abs(varians - sann_varians))"
   ]
  },
  {
   "cell_type": "markdown",
   "id": "edfe11fc-e53e-429e-a98c-5ddb9c64df9e",
   "metadata": {},
   "source": [
    "### Funksjon av stokastisk variabel\n",
    "\n",
    "Til slutt vil vi finne $E(g(X))$ når $g(x) = x^2+1$."
   ]
  },
  {
   "cell_type": "code",
   "execution_count": null,
   "id": "6a62263e-2d9b-4dbe-9978-53c0b974cd2a",
   "metadata": {},
   "outputs": [],
   "source": [
    "def g_x(x):\n",
    "    return x**2 + 1;\n",
    "\n",
    "# tilnærmet forventningsverdi:\n",
    "(1/n) * sum(g_x(x))"
   ]
  },
  {
   "cell_type": "markdown",
   "id": "25616dad-48af-4ed5-af1e-b492fac288b4",
   "metadata": {},
   "source": [
    "Med simulering er det veldig enkelt å finne tilnærmet forventningsverdi (og også varians) til funksjoner av stokastiske variabler, alt vi trenger å gjøre er å implementere funksjonen og så regne ut gjennomsnitt (eller empirisk varians):"
   ]
  },
  {
   "cell_type": "code",
   "execution_count": null,
   "id": "06a2de06-2f4d-45d0-b3c7-1d12b9203f8f",
   "metadata": {},
   "outputs": [],
   "source": [
    "def g_x2(x):\n",
    "    return np.sin(np.pi/x) + x**2 - np.log(x);\n",
    "\n",
    "# tilnærmet forventningsverdi:\n",
    "(1/n) * sum(g_x2(x))"
   ]
  },
  {
   "cell_type": "code",
   "execution_count": null,
   "id": "4b9a42b8-cecd-4783-a788-2ae626381ff2",
   "metadata": {},
   "outputs": [],
   "source": []
  }
 ],
 "metadata": {
  "kernelspec": {
   "display_name": "Python 3",
   "language": "python",
   "name": "python3"
  },
  "language_info": {
   "codemirror_mode": {
    "name": "ipython",
    "version": 3
   },
   "file_extension": ".py",
   "mimetype": "text/x-python",
   "name": "python",
   "nbconvert_exporter": "python",
   "pygments_lexer": "ipython3",
   "version": "3.8.8"
  }
 },
 "nbformat": 4,
 "nbformat_minor": 5
}
