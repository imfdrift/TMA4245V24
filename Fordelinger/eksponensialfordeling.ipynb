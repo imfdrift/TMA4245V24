{
 "cells": [
  {
   "cell_type": "markdown",
   "id": "03bb9bb3-357a-475f-a654-09863acb5915",
   "metadata": {},
   "source": [
    "# Eksponensialfordeling, sannsynlighetstetthet og kumulativ sannsynlighetsfordeling\n",
    "\n",
    "Eksponensialfordelingen har følgende sannsynlighetstetthet:\n",
    "\n",
    "$\\text{Exp}(\\lambda) = \\lambda e^{-\\lambda t}, \\ t \\geq 0$ og $0$ ellers.\n",
    "\n",
    "Merk at det ofte også brukes $\\lambda = 1/\\beta$. "
   ]
  },
  {
   "cell_type": "code",
   "execution_count": null,
   "id": "50101dbb-72bf-4d09-a0b8-a523f12becb1",
   "metadata": {},
   "outputs": [],
   "source": [
    "import numpy as np\n",
    "from scipy import stats # gir oss statistikk-funksjoner\n",
    "import matplotlib.pyplot as plt"
   ]
  },
  {
   "cell_type": "code",
   "execution_count": null,
   "id": "b2c23b5c-e4ba-4aa6-bc65-03ae29363e9f",
   "metadata": {},
   "outputs": [],
   "source": [
    "# setter noen parameterverdier\n",
    "lam = 1.7"
   ]
  },
  {
   "cell_type": "code",
   "execution_count": null,
   "id": "6e9fedc0-3e6f-4128-99fa-54882f464a5e",
   "metadata": {},
   "outputs": [],
   "source": [
    "# f(1), IKKE det samme som P(X = 1), og ikke så nyttig, så lenge X er kontinuerlig\n",
    "stats.expon.pdf(1, scale = 1/lam)"
   ]
  },
  {
   "cell_type": "code",
   "execution_count": null,
   "id": "b9e5bb49-2ce6-42de-a093-d95b2d990744",
   "metadata": {},
   "outputs": [],
   "source": [
    "# P(X <= 1.5) = F(1.5)\n",
    "stats.expon.cdf(1.5, scale = 1/lam)"
   ]
  },
  {
   "cell_type": "code",
   "execution_count": null,
   "id": "1b60c532-fbfc-479c-b20f-5d57f9e2a8ab",
   "metadata": {},
   "outputs": [],
   "source": [
    "# simulere:\n",
    "np.random.exponential(scale = 1/lam, size = 100)"
   ]
  },
  {
   "cell_type": "code",
   "execution_count": null,
   "id": "02568c87-9ff3-4cfe-ad16-1803ed1d2d18",
   "metadata": {},
   "outputs": [],
   "source": []
  }
 ],
 "metadata": {
  "kernelspec": {
   "display_name": "Python 3",
   "language": "python",
   "name": "python3"
  },
  "language_info": {
   "codemirror_mode": {
    "name": "ipython",
    "version": 3
   },
   "file_extension": ".py",
   "mimetype": "text/x-python",
   "name": "python",
   "nbconvert_exporter": "python",
   "pygments_lexer": "ipython3",
   "version": "3.8.8"
  }
 },
 "nbformat": 4,
 "nbformat_minor": 5
}
