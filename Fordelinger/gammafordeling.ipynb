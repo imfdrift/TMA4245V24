{
 "cells": [
  {
   "cell_type": "markdown",
   "id": "44bc8944-2fb6-4f51-8303-99098304f6b8",
   "metadata": {},
   "source": [
    "# Gammafordeling, sannsynlighetstetthet og kumulativ sannsynlighetsfordeling\n",
    "\n",
    "Gammafordelingen har følgende sannsynlighetstetthet:\n",
    "\n",
    "$\\text{Gamma}(\\alpha, \\beta) = \\frac{1}{\\beta^{\\alpha} \\Gamma(\\alpha)} x^{\\alpha-1}e^{-x/\\beta}, \\ x \\geq 0$ og $0$ ellers."
   ]
  },
  {
   "cell_type": "code",
   "execution_count": null,
   "id": "d215c167-b993-4365-98e8-fca5cbdacf7c",
   "metadata": {},
   "outputs": [],
   "source": [
    "import numpy as np\n",
    "from scipy import stats # gir oss statistikk-funksjoner\n",
    "import matplotlib.pyplot as plt"
   ]
  },
  {
   "cell_type": "code",
   "execution_count": null,
   "id": "9e751a39-05a3-49bf-ae78-177437d058e4",
   "metadata": {},
   "outputs": [],
   "source": [
    "# setter noen parameterverdier\n",
    "alpha = 1.2\n",
    "beta = 3"
   ]
  },
  {
   "cell_type": "code",
   "execution_count": null,
   "id": "0641415c-db04-4e3e-b63a-7f8bb4d6daa0",
   "metadata": {},
   "outputs": [],
   "source": [
    "# f(1), IKKE det samme som P(X = 1), og ikke så nyttig, så lenge X er kontinuerlig\n",
    "stats.gamma.pdf(1, alpha, scale = 1/beta)"
   ]
  },
  {
   "cell_type": "code",
   "execution_count": null,
   "id": "49aa963f-15ee-40c7-83dc-71d8ae8903f4",
   "metadata": {},
   "outputs": [],
   "source": [
    "# P(X <= 1.5) = F(1.5)\n",
    "stats.gamma.cdf(1.5, alpha, scale = 1/beta)"
   ]
  },
  {
   "cell_type": "code",
   "execution_count": null,
   "id": "6049d7fe-1034-40ed-86b1-7631c73d49ce",
   "metadata": {},
   "outputs": [],
   "source": [
    "# simulere:\n",
    "np.random.gamma(alpha, scale = 1/beta, size = 100)"
   ]
  },
  {
   "cell_type": "code",
   "execution_count": null,
   "id": "ae32b4f4-c584-4e7e-8d7a-7631258f1c86",
   "metadata": {},
   "outputs": [],
   "source": []
  }
 ],
 "metadata": {
  "kernelspec": {
   "display_name": "Python 3",
   "language": "python",
   "name": "python3"
  },
  "language_info": {
   "codemirror_mode": {
    "name": "ipython",
    "version": 3
   },
   "file_extension": ".py",
   "mimetype": "text/x-python",
   "name": "python",
   "nbconvert_exporter": "python",
   "pygments_lexer": "ipython3",
   "version": "3.8.8"
  }
 },
 "nbformat": 4,
 "nbformat_minor": 5
}
