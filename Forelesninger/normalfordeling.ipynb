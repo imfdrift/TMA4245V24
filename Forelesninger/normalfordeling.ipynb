{
 "cells": [
  {
   "cell_type": "markdown",
   "id": "30c49e41-7104-4c4a-a4f6-d7662eb3b99b",
   "metadata": {},
   "source": [
    "# Normalfordeling, sannsynlighetstetthet og kumulativ sannsynlighetsfordeling\n",
    "\n",
    "Normalfordelingen har følgende sannsynlighetstetthet:\n",
    "\n",
    "$\\text{N}(\\mu, \\sigma) = \\frac{1}{\\sqrt{2 \\pi} \\sigma} \\exp\\left(-\\frac{1}{2}\\frac{(x-\\mu)^2}{\\sigma^2} \\right), \\ -\\infty < x < \\infty.$\n",
    "\n",
    "Kumulativ fordeling har ikke et enkelt uttrykk."
   ]
  },
  {
   "cell_type": "code",
   "execution_count": null,
   "id": "59a4ee2e-b489-4656-a4d0-e2bbae6e2788",
   "metadata": {},
   "outputs": [],
   "source": [
    "import numpy as np\n",
    "from scipy import stats # gir oss statistikk-funksjoner\n",
    "import matplotlib.pyplot as plt"
   ]
  },
  {
   "cell_type": "markdown",
   "id": "d0dead69-9411-4769-a0a5-0f4bac7848f4",
   "metadata": {},
   "source": [
    "Vi setter parameterverdier som ble brukt i Oppgave 2, onsdag uke 6:"
   ]
  },
  {
   "cell_type": "code",
   "execution_count": null,
   "id": "52db9eb4-f2a2-4dde-a547-e3a8165b6bfb",
   "metadata": {},
   "outputs": [],
   "source": [
    "mu = 2\n",
    "sigma = 0.5"
   ]
  },
  {
   "cell_type": "markdown",
   "id": "ab896e16-3668-404a-95d8-15bd2546c1e6",
   "metadata": {},
   "source": [
    "Merk at `stats.norm.pdf`/`stats.norm.cdf`/`stats.norm.ppf` bruker standardavvik $\\sigma$ som input."
   ]
  },
  {
   "cell_type": "code",
   "execution_count": null,
   "id": "6dc01caa-a346-491d-8195-f3bbb5d8eb79",
   "metadata": {},
   "outputs": [],
   "source": [
    "# f(1), IKKE det samme som P(X = 1), og ikke så nyttig, så lenge X er kontinuerlig\n",
    "stats.norm.pdf(1, mu, sigma)"
   ]
  },
  {
   "cell_type": "code",
   "execution_count": null,
   "id": "468911f8-aa6e-4415-80b4-910c65284a29",
   "metadata": {},
   "outputs": [],
   "source": [
    "# P(X <= 1.5) = F(1.5)\n",
    "stats.norm.cdf(1.5, mu, sigma)"
   ]
  },
  {
   "cell_type": "code",
   "execution_count": null,
   "id": "a76a28fb-3598-4156-9a2c-e7c50f1a1e30",
   "metadata": {},
   "outputs": [],
   "source": [
    "# P(2 <= X <= 2.5)\n",
    "stats.norm.cdf(2.5, mu, sigma) - stats.norm.cdf(2, mu, sigma)"
   ]
  },
  {
   "cell_type": "code",
   "execution_count": null,
   "id": "0886fb60-f89c-4ff0-8b8e-f5d16f536205",
   "metadata": {
    "tags": []
   },
   "outputs": [],
   "source": [
    "# 5% tyngste\n",
    "stats.norm.ppf(1-0.05, mu, sigma)"
   ]
  },
  {
   "cell_type": "code",
   "execution_count": null,
   "id": "7278dab6-34af-4d9b-a564-1a4ede66a0cd",
   "metadata": {},
   "outputs": [],
   "source": [
    "# plotte pdf\n",
    "xx = np.linspace(0, 4, 1001)\n",
    "plt.plot(xx, stats.norm.pdf(xx, mu, sigma))\n",
    "plt.show()"
   ]
  },
  {
   "cell_type": "code",
   "execution_count": null,
   "id": "4e975510-18d0-4792-966d-03885bf15fda",
   "metadata": {},
   "outputs": [],
   "source": [
    "# plotte cdf\n",
    "xx = np.linspace(0, 4, 1001)\n",
    "plt.plot(xx, stats.norm.cdf(xx, mu, sigma))\n",
    "plt.show()"
   ]
  },
  {
   "cell_type": "code",
   "execution_count": null,
   "id": "ba6a6f04-62f2-43b4-a204-1f19fee7bc74",
   "metadata": {},
   "outputs": [],
   "source": [
    "# simulere:\n",
    "np.random.normal(mu, sigma, size = 100)"
   ]
  },
  {
   "cell_type": "code",
   "execution_count": null,
   "id": "76d46dd5-890b-44ee-889f-5f59471243f1",
   "metadata": {},
   "outputs": [],
   "source": []
  }
 ],
 "metadata": {
  "kernelspec": {
   "display_name": "Python 3",
   "language": "python",
   "name": "python3"
  },
  "language_info": {
   "codemirror_mode": {
    "name": "ipython",
    "version": 3
   },
   "file_extension": ".py",
   "mimetype": "text/x-python",
   "name": "python",
   "nbconvert_exporter": "python",
   "pygments_lexer": "ipython3",
   "version": "3.8.8"
  }
 },
 "nbformat": 4,
 "nbformat_minor": 5
}
