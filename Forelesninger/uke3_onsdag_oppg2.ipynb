{
 "cells": [
  {
   "cell_type": "markdown",
   "id": "87d128c6-899c-4780-ac29-6099c4adced9",
   "metadata": {},
   "source": [
    "# Onsdag 17. januar, oppgave 2"
   ]
  },
  {
   "cell_type": "markdown",
   "id": "5a7a78ae-f866-4c57-89c7-e5d923e4118b",
   "metadata": {},
   "source": [
    "Obs! Se slides for oppgavetekst.\n",
    "\n",
    "| $x$ |  | $f(x)$ |\n",
    "|:---:|----|:------:|\n",
    "| $-2$ |  | $0.1$ |\n",
    "| $-1$ |  | $0.1$ |\n",
    "| $0$ |  | $0.5$ |\n",
    "| $1$ |  | $0.2$ |\n",
    "| $2$ |  | $0.1$ |\n"
   ]
  },
  {
   "cell_type": "code",
   "execution_count": null,
   "id": "0bfb2277-cce6-4f8b-b72d-31f04aa88ace",
   "metadata": {},
   "outputs": [],
   "source": [
    "import numpy as np\n",
    "import matplotlib.pyplot as plt"
   ]
  },
  {
   "cell_type": "code",
   "execution_count": null,
   "id": "1920f7e0-95c2-4379-8d1d-203432cf97fd",
   "metadata": {},
   "outputs": [],
   "source": [
    "x = np.array([-2, -1, 0, 1, 2])\n",
    "x"
   ]
  },
  {
   "cell_type": "code",
   "execution_count": null,
   "id": "a6843e34-7071-45db-9b67-b4fa09e1d3de",
   "metadata": {},
   "outputs": [],
   "source": [
    "f_x = np.array([0.1, 0.1, 0.5, 0.2, 0.1])\n",
    "f_x"
   ]
  },
  {
   "cell_type": "code",
   "execution_count": null,
   "id": "cf57f6ec-1256-47c6-84d9-a7b3bdae0e93",
   "metadata": {},
   "outputs": [],
   "source": [
    "plt.bar(x, f_x, color = \"#B17D7D\")\n",
    "plt.xlabel(\"x\")\n",
    "plt.ylabel(\"f(x)\")\n",
    "plt.title(\"Stolpediagram for f(x)\") \n",
    "plt.show()"
   ]
  },
  {
   "cell_type": "code",
   "execution_count": null,
   "id": "20162f5e-7ff6-4d7f-8c46-77e4d0d4522b",
   "metadata": {},
   "outputs": [],
   "source": [
    "x = np.array([-3, -2, -1, 0, 1, 2, 3])\n",
    "x"
   ]
  },
  {
   "cell_type": "code",
   "execution_count": null,
   "id": "9a545e82-7f0e-492f-8ecc-27715ac952b4",
   "metadata": {},
   "outputs": [],
   "source": [
    "F_x = np.append([0, 0], np.cumsum(f_x))\n",
    "F_x"
   ]
  },
  {
   "cell_type": "code",
   "execution_count": null,
   "id": "77b74eac-e1e2-4888-80eb-e4c25fa95c9b",
   "metadata": {},
   "outputs": [],
   "source": [
    "plt.step(x, F_x, color = \"#B17D7D\") \n",
    "plt.xlabel(\"x\")\n",
    "plt.ylabel(\"F(x)\")\n",
    "plt.show()"
   ]
  }
 ],
 "metadata": {
  "kernelspec": {
   "display_name": "Python 3",
   "language": "python",
   "name": "python3"
  },
  "language_info": {
   "codemirror_mode": {
    "name": "ipython",
    "version": 3
   },
   "file_extension": ".py",
   "mimetype": "text/x-python",
   "name": "python",
   "nbconvert_exporter": "python",
   "pygments_lexer": "ipython3",
   "version": "3.8.8"
  }
 },
 "nbformat": 4,
 "nbformat_minor": 5
}
