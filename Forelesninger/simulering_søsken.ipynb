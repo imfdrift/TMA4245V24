{
 "cells": [
  {
   "cell_type": "code",
   "execution_count": null,
   "id": "e4a950d5-4674-4b8b-a15a-33ab99980a53",
   "metadata": {
    "tags": []
   },
   "outputs": [],
   "source": [
    "import numpy as np"
   ]
  },
  {
   "cell_type": "code",
   "execution_count": null,
   "id": "272f5eea-9a3f-4978-b827-ddeb0ba5df12",
   "metadata": {
    "tags": []
   },
   "outputs": [],
   "source": [
    "#verdimengde\n",
    "x = np.arange(4)\n",
    "#punktsannsynligheter\n",
    "f_x = np.array([0.44, 0.40, 0.13, 0.03])\n",
    "# kumulative sannsynligheter\n",
    "F_x = np.cumsum(f_x)\n",
    "print(F_x)"
   ]
  },
  {
   "cell_type": "code",
   "execution_count": null,
   "id": "81ae31c4-d01d-4b17-8eb9-04e0ab073d42",
   "metadata": {
    "tags": []
   },
   "outputs": [],
   "source": [
    "u = np.random.uniform()\n",
    "if(u < F_x[0]): # dersom u er mindre enn 0.44 vil vi at realisasjonen av X skal være 0\n",
    "    x = 0\n",
    "elif(u <= F_x[1]): # hvis u er mindre enn 0.84 vil vi at realisasjonen av X skal være 1\n",
    "    x = 1\n",
    "elif(u <= F_x[2]):\n",
    "    x = 2\n",
    "elif(u > F_x[2]):\n",
    "    x = 3\n",
    "    \n",
    "print(\"u ble\", u, \"og x ble dermed\", x)"
   ]
  },
  {
   "cell_type": "code",
   "execution_count": null,
   "id": "4b7160b1-90ac-4832-8aec-7e5769244963",
   "metadata": {
    "tags": []
   },
   "outputs": [],
   "source": [
    "# en funksjon som genererer n realisasjoner av X\n",
    "def simX(n):\n",
    "    x_sim = np.zeros(n)\n",
    "    for i in range(n):\n",
    "        u = np.random.uniform()\n",
    "        if(u < F_x[0]): # dersom u er mindre enn 0.44 vil vi at realisasjonen av X skal være 0\n",
    "            x_sim[i] = 0\n",
    "        elif(u <= F_x[1]): # hvis u er mindre enn 0.84 vil vi at realisasjonen av X skal være 1\n",
    "            x_sim[i] = 1\n",
    "        elif(u <= F_x[2]):\n",
    "            x_sim[i] = 2\n",
    "        elif(u > F_x[2]):\n",
    "            x_sim[i] = 3\n",
    "    return x_sim "
   ]
  },
  {
   "cell_type": "code",
   "execution_count": null,
   "id": "3d71a38a-d5d7-4d6d-809f-251cc2bea53d",
   "metadata": {
    "tags": []
   },
   "outputs": [],
   "source": [
    "antall_studenter = 144 # hvor mange skal vi trekke fra populasjonen?\n",
    "test = simX(antall_studenter)\n",
    "print(test[0:10])"
   ]
  },
  {
   "cell_type": "code",
   "execution_count": null,
   "id": "c2159ba5-ce20-4cd3-8b4f-d480dba38aef",
   "metadata": {
    "tags": []
   },
   "outputs": [],
   "source": [
    "print(np.mean(test))"
   ]
  },
  {
   "cell_type": "code",
   "execution_count": null,
   "id": "deb39ba0-6c34-4da3-a512-51e33e8fb14c",
   "metadata": {
    "tags": []
   },
   "outputs": [],
   "source": [
    "# simulere mange trekninger og regne ut gjennomsnittlig antall søsken for hver trekning\n",
    "\n",
    "nsim = 1000 # antall trekninger av en gruppe på størrelse antall_studenter\n",
    "søskengjennomsnitt = np.zeros(nsim)\n",
    "for i in range(nsim):\n",
    "        søskengjennomsnitt[i] = np.mean(simX(antall_studenter))\n",
    "    \n",
    "print(søskengjennomsnitt[0:5])"
   ]
  },
  {
   "cell_type": "code",
   "execution_count": null,
   "id": "aa374381-8641-42a9-a6ae-9058032f9fc9",
   "metadata": {
    "tags": []
   },
   "outputs": [],
   "source": [
    "import matplotlib.pyplot as plt\n",
    "plt.hist(søskengjennomsnitt,edgecolor=\"black\", color=\"#a0c3d2\")\n",
    "plt.xlabel(\"Gjennomsnittlig antall søsken\")\n",
    "plt.show()"
   ]
  }
 ],
 "metadata": {
  "kernelspec": {
   "display_name": "Python 3 (ipykernel)",
   "language": "python",
   "name": "python3"
  },
  "language_info": {
   "codemirror_mode": {
    "name": "ipython",
    "version": 3
   },
   "file_extension": ".py",
   "mimetype": "text/x-python",
   "name": "python",
   "nbconvert_exporter": "python",
   "pygments_lexer": "ipython3",
   "version": "3.11.5"
  }
 },
 "nbformat": 4,
 "nbformat_minor": 5
}
