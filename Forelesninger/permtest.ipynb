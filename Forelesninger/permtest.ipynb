{
 "cells": [
  {
   "cell_type": "code",
   "execution_count": null,
   "id": "a5fccb37-450d-403a-ace1-44e6b7dcb0af",
   "metadata": {},
   "outputs": [],
   "source": [
    "import numpy as np\n",
    "from random import sample"
   ]
  },
  {
   "cell_type": "markdown",
   "id": "36ce77b4-1787-47ed-b4c5-a8dd89f1cccb",
   "metadata": {},
   "source": [
    "### Permutasjonstest, oppgave 2"
   ]
  },
  {
   "cell_type": "code",
   "execution_count": null,
   "id": "c5a6b2fb-da76-408a-b1f6-a764fb3df0c2",
   "metadata": {
    "tags": []
   },
   "outputs": [],
   "source": [
    "obs = [16.3, 15.4, 14.2, 13.7, 14.8, 12.9, 15.0, 14.3, 14.9, 13.2, 12.2, 13.1, 12.8]\n",
    "n1 = 6 # første n1 er høydehus\n",
    "n2 = 7 # siste n2 er ikke høydehus"
   ]
  },
  {
   "cell_type": "code",
   "execution_count": null,
   "id": "98bcd454-9c59-4565-a7f8-04d892eb2b3b",
   "metadata": {},
   "outputs": [],
   "source": [
    "u_star = np.mean(obs[0:n1]) - np.mean(obs[n1:(n1+n2)])\n",
    "u_star"
   ]
  },
  {
   "cell_type": "code",
   "execution_count": null,
   "id": "4eedb0c4-3885-43fa-b141-1ae26327ab26",
   "metadata": {},
   "outputs": [],
   "source": [
    "import itertools\n",
    "combs = np.array(list(itertools.combinations(range(13), 6))) # til høydehus-gruppe\n",
    "other_combs = np.array([np.where(~np.isin(range(13), combs[i]))[0] for i in range(len(combs))]) # resten\n",
    "len(combs) # riktig lengde"
   ]
  },
  {
   "cell_type": "code",
   "execution_count": null,
   "id": "109beac8-1729-41bd-90e7-1c0237435e04",
   "metadata": {},
   "outputs": [],
   "source": [
    "u = np.zeros(len(combs))\n",
    "for i in range(len(combs)):\n",
    "    u[i] = np.mean(np.array(obs)[combs[i]]) - np.mean(np.array(obs)[other_combs[i]])\n",
    "\n",
    "p_est = np.mean(u >= np.round(u_star, 10))\n",
    "p_est"
   ]
  },
  {
   "cell_type": "code",
   "execution_count": null,
   "id": "2824acfe-d2aa-425e-bb5e-607c72ecf2c4",
   "metadata": {},
   "outputs": [],
   "source": [
    "import matplotlib.pyplot as plt\n",
    "plt.hist(u)\n",
    "plt.show()"
   ]
  },
  {
   "cell_type": "markdown",
   "id": "869dc3c7-9472-4291-97b8-8d1a2823d716",
   "metadata": {},
   "source": [
    "### Permutasjonstest, oppgave 3"
   ]
  },
  {
   "cell_type": "code",
   "execution_count": null,
   "id": "a544dc9f-b487-476e-9c8a-370cfd244279",
   "metadata": {},
   "outputs": [],
   "source": [
    "obs = [8, 4, 6, -3, 10, 5, -1, 2, 9, 7, 2, 3, -2, 0, 1, 1, -1, 3, 0]\n",
    "n1 = 10 # første n1 er medisin\n",
    "n2 = 9 # siste n2 er placebo\n",
    "N = 10000"
   ]
  },
  {
   "cell_type": "code",
   "execution_count": null,
   "id": "3779f24d-5f09-4029-8723-89bca3094a05",
   "metadata": {},
   "outputs": [],
   "source": [
    "u_star = np.mean(obs[0:n1]) - np.mean(obs[n1:(n1+n2)])\n",
    "u_star"
   ]
  },
  {
   "cell_type": "code",
   "execution_count": null,
   "id": "9590c92f-df96-4885-998d-fa4968f11c77",
   "metadata": {},
   "outputs": [],
   "source": [
    "u = np.zeros(N)\n",
    "for i in range(N):\n",
    "    obs_perm = sample(obs, len(obs))\n",
    "    u[i] = np.mean(obs_perm[0:n1]) - np.mean(obs_perm[n1:(n1+n2)])\n",
    "\n",
    "p_est = (np.sum(u >= u_star) + 1)/(len(u) + 1)\n",
    "p_est"
   ]
  },
  {
   "cell_type": "code",
   "execution_count": null,
   "id": "ccc66d66-2117-45f3-bf80-120e97655231",
   "metadata": {},
   "outputs": [],
   "source": [
    "import matplotlib.pyplot as plt\n",
    "plt.hist(np.append(u,u_star))\n",
    "plt.show()"
   ]
  }
 ],
 "metadata": {
  "kernelspec": {
   "display_name": "Python 3",
   "language": "python",
   "name": "python3"
  },
  "language_info": {
   "codemirror_mode": {
    "name": "ipython",
    "version": 3
   },
   "file_extension": ".py",
   "mimetype": "text/x-python",
   "name": "python",
   "nbconvert_exporter": "python",
   "pygments_lexer": "ipython3",
   "version": "3.8.8"
  }
 },
 "nbformat": 4,
 "nbformat_minor": 5
}
