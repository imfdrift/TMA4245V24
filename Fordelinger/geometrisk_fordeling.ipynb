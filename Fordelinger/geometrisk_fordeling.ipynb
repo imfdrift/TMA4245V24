{
 "cells": [
  {
   "cell_type": "markdown",
   "id": "9face0ab-73fd-47e4-bb46-48b89982922e",
   "metadata": {},
   "source": [
    "# Geometriske punktsannsynligheter og kumulative sannsynligheter\n",
    "\n",
    "Geometrisk fordeling har følgende punktsannsynlighet:\n",
    "\n",
    "$\\text{Geom}(p) = p(1-p)^{x-1}$, for $x = 1, 2, \\dots$, og $0$ ellers."
   ]
  },
  {
   "cell_type": "code",
   "execution_count": null,
   "id": "19f12066-3e4a-4b99-a9d9-73b60c97317f",
   "metadata": {},
   "outputs": [],
   "source": [
    "import numpy as np\n",
    "from scipy import stats # gir oss statistikk-funksjoner\n",
    "import matplotlib.pyplot as plt"
   ]
  },
  {
   "cell_type": "code",
   "execution_count": null,
   "id": "4e07ea2a-8ffe-484d-bebc-e3f952d6e15f",
   "metadata": {},
   "outputs": [],
   "source": [
    "# setter noen parameterverdier\n",
    "p = 0.2"
   ]
  },
  {
   "cell_type": "code",
   "execution_count": null,
   "id": "c5265555-a06c-4ae7-a30e-e519d7c82226",
   "metadata": {},
   "outputs": [],
   "source": [
    "# P(X = 2)\n",
    "stats.geom.pmf(2, p)"
   ]
  },
  {
   "cell_type": "code",
   "execution_count": null,
   "id": "d6ab086e-c093-43d3-b887-bb352a15c423",
   "metadata": {},
   "outputs": [],
   "source": [
    "# P(X <= 3)\n",
    "stats.geom.cdf(3, p)"
   ]
  },
  {
   "cell_type": "code",
   "execution_count": null,
   "id": "5bcf03fd-7e39-43ab-ab90-3f38d557aa00",
   "metadata": {},
   "outputs": [],
   "source": [
    "# simulere:\n",
    "np.random.geometric(p, size = 100)"
   ]
  },
  {
   "cell_type": "code",
   "execution_count": null,
   "id": "2780ed54-6059-4eca-856d-e491df0493b5",
   "metadata": {},
   "outputs": [],
   "source": []
  }
 ],
 "metadata": {
  "kernelspec": {
   "display_name": "Python 3",
   "language": "python",
   "name": "python3"
  },
  "language_info": {
   "codemirror_mode": {
    "name": "ipython",
    "version": 3
   },
   "file_extension": ".py",
   "mimetype": "text/x-python",
   "name": "python",
   "nbconvert_exporter": "python",
   "pygments_lexer": "ipython3",
   "version": "3.8.8"
  }
 },
 "nbformat": 4,
 "nbformat_minor": 5
}
