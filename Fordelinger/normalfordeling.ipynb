{
 "cells": [
  {
   "cell_type": "markdown",
   "id": "30c49e41-7104-4c4a-a4f6-d7662eb3b99b",
   "metadata": {},
   "source": [
    "# Normalfordeling, sannsynlighetstetthet og kumulativ sannsynlighetsfordeling\n",
    "\n",
    "Normalfordelingen har følgende sannsynlighetstetthet:\n",
    "\n",
    "$\\text{N}(\\mu, \\sigma) = \\frac{1}{\\sqrt{2 \\pi} \\sigma} \\exp\\left(-\\frac{1}{2}\\frac{(x-\\mu)^2}{\\sigma^2} \\right), \\ -\\infty < x < \\infty.$"
   ]
  },
  {
   "cell_type": "code",
   "execution_count": null,
   "id": "59a4ee2e-b489-4656-a4d0-e2bbae6e2788",
   "metadata": {},
   "outputs": [],
   "source": [
    "import numpy as np\n",
    "from scipy import stats # gir oss statistikk-funksjoner\n",
    "import matplotlib.pyplot as plt"
   ]
  },
  {
   "cell_type": "code",
   "execution_count": null,
   "id": "52db9eb4-f2a2-4dde-a547-e3a8165b6bfb",
   "metadata": {},
   "outputs": [],
   "source": [
    "# setter noen parameterverdier\n",
    "mu = 2\n",
    "sigma = 0.5"
   ]
  },
  {
   "cell_type": "code",
   "execution_count": null,
   "id": "6dc01caa-a346-491d-8195-f3bbb5d8eb79",
   "metadata": {},
   "outputs": [],
   "source": [
    "# f(1), IKKE det samme som P(X = 1), og ikke så nyttig, så lenge X er kontinuerlig\n",
    "stats.norm.pdf(1, mu, sigma)"
   ]
  },
  {
   "cell_type": "code",
   "execution_count": null,
   "id": "468911f8-aa6e-4415-80b4-910c65284a29",
   "metadata": {},
   "outputs": [],
   "source": [
    "# P(X <= 1.5) = F(1.5)\n",
    "stats.norm.cdf(1.5, mu, sigma)"
   ]
  },
  {
   "cell_type": "code",
   "execution_count": null,
   "id": "4d55d917-dfe2-4276-8565-a05c4b812b5a",
   "metadata": {},
   "outputs": [],
   "source": [
    "# P(X <= x_a) = 0.5, returnerer x_a\n",
    "stats.norm.ppf(0.5, mu, sigma)"
   ]
  },
  {
   "cell_type": "code",
   "execution_count": null,
   "id": "ba6a6f04-62f2-43b4-a204-1f19fee7bc74",
   "metadata": {},
   "outputs": [],
   "source": [
    "# simulere:\n",
    "np.random.normal(mu, sigma, size = 100)"
   ]
  },
  {
   "cell_type": "code",
   "execution_count": null,
   "id": "52fa779a-23b2-4f88-80af-f19df3879e86",
   "metadata": {},
   "outputs": [],
   "source": []
  }
 ],
 "metadata": {
  "kernelspec": {
   "display_name": "Python 3",
   "language": "python",
   "name": "python3"
  },
  "language_info": {
   "codemirror_mode": {
    "name": "ipython",
    "version": 3
   },
   "file_extension": ".py",
   "mimetype": "text/x-python",
   "name": "python",
   "nbconvert_exporter": "python",
   "pygments_lexer": "ipython3",
   "version": "3.8.8"
  }
 },
 "nbformat": 4,
 "nbformat_minor": 5
}
